{
 "cells": [
  {
   "cell_type": "code",
   "execution_count": 53,
   "metadata": {},
   "outputs": [],
   "source": [
    "# Hoeffding Tree with Sample Weights and with Reservoir Sampling "
   ]
  },
  {
   "cell_type": "code",
   "execution_count": 54,
   "metadata": {},
   "outputs": [],
   "source": [
    "# IMPORT LIBRARIES\n",
    "import pyspark\n",
    "from pyspark.sql import DataFrame\n",
    "from sklearn.model_selection import train_test_split\n",
    "\n",
    "from pyspark import SparkConf\n",
    "from pyspark import SparkContext\n",
    "from pyspark.sql import SparkSession\n",
    "from pyspark.sql import SQLContext\n",
    "from pyspark.sql import functions as f\n",
    "from pyspark.sql import types as t\n",
    "import random\n",
    "import matplotlib\n",
    "import matplotlib.pyplot as plt\n",
    "from pyspark.sql.functions import lit\n",
    "\n",
    "from numpy import array\n",
    "import numpy as np\n",
    "import pandas as pd\n",
    "import datetime\n",
    "from pyspark.sql.window import Window\n",
    "from skmultiflow.trees import HoeffdingTree, HoeffdingTreeClassifier"
   ]
  },
  {
   "cell_type": "code",
   "execution_count": 55,
   "metadata": {},
   "outputs": [],
   "source": [
    "def init_spark():\n",
    "    spark = SparkSession \\\n",
    "        .builder \\\n",
    "        .appName(\"Hoeffding Tree\") \\\n",
    "        .config(\"spark.some.config.option\", \"some-value\") \\\n",
    "        .getOrCreate()\n",
    "    return spark"
   ]
  },
  {
   "cell_type": "code",
   "execution_count": 56,
   "metadata": {},
   "outputs": [],
   "source": [
    "spark = init_spark()"
   ]
  },
  {
   "cell_type": "code",
   "execution_count": 57,
   "metadata": {},
   "outputs": [],
   "source": [
    "# prepare the data set\n",
    "filename = \"iot_telemetry_data.csv\"\n",
    "df = spark.read.csv(filename, inferSchema=True, header=True)"
   ]
  },
  {
   "cell_type": "code",
   "execution_count": 58,
   "metadata": {},
   "outputs": [],
   "source": [
    "# convert unix epochs to datetime\n",
    "df = df.withColumn('timestamp', f.date_format(df.ts.cast(dataType=t.TimestampType()), \"yyyy-MM-dd hh:mm:ss\")) "
   ]
  },
  {
   "cell_type": "code",
   "execution_count": 59,
   "metadata": {},
   "outputs": [
    {
     "data": {
      "text/plain": [
       "DataFrame[summary: string, ts: string, device: string, co: string, humidity: string, lpg: string, smoke: string, temp: string, timestamp: string]"
      ]
     },
     "execution_count": 59,
     "metadata": {},
     "output_type": "execute_result"
    }
   ],
   "source": [
    "#explore the data frame\n",
    "df.describe()"
   ]
  },
  {
   "cell_type": "code",
   "execution_count": 17,
   "metadata": {},
   "outputs": [
    {
     "data": {
      "text/plain": [
       "DataFrame[ts: double, device: string, co: double, humidity: double, light: boolean, lpg: double, motion: boolean, smoke: double, temp: double, timestamp: string]"
      ]
     },
     "execution_count": 17,
     "metadata": {},
     "output_type": "execute_result"
    }
   ],
   "source": [
    "# drop the duplicates \n",
    "df.drop_duplicates()"
   ]
  },
  {
   "cell_type": "code",
   "execution_count": 18,
   "metadata": {},
   "outputs": [
    {
     "data": {
      "text/plain": [
       "112527"
      ]
     },
     "execution_count": 18,
     "metadata": {},
     "output_type": "execute_result"
    }
   ],
   "source": [
    "#convert the Boolean True/False values to Interger 1/0\n",
    "df = df.withColumn(\"light\", df[\"light\"].cast(\"integer\"))\n",
    "df[df[\"light\"]==1].count()\n",
    "# 0 - for 292649 data points the label is \"light off\"\n",
    "# 1 - for 112522 data points the label is \"light on\"\n",
    "# => 112522/(112522+292649) = 28 % - light on =1\n",
    "# => imbalanced data set - 28% minority class"
   ]
  },
  {
   "cell_type": "code",
   "execution_count": 19,
   "metadata": {},
   "outputs": [],
   "source": [
    "#select the features and the target label\n",
    "#we exclude the timestamp and the device id\n",
    "feature_cols = ['co', 'humidity', 'lpg', 'motion','smoke','temp']\n",
    "X = df[feature_cols] # Features\n",
    "y = df['light'] # Target label"
   ]
  },
  {
   "cell_type": "code",
   "execution_count": 20,
   "metadata": {},
   "outputs": [
    {
     "data": {
      "text/plain": [
       "count    405184.000000\n",
       "mean          0.277718\n",
       "std           0.447874\n",
       "min           0.000000\n",
       "25%           0.000000\n",
       "50%           0.000000\n",
       "75%           1.000000\n",
       "max           1.000000\n",
       "Name: light, dtype: float64"
      ]
     },
     "execution_count": 20,
     "metadata": {},
     "output_type": "execute_result"
    }
   ],
   "source": [
    "# Analysis of the class distribution\n",
    "df=pd.read_csv(\"iot_telemetry_data.csv\")\n",
    "df[\"light\"]=df[\"light\"].astype(int)\n",
    "df[\"motion\"]=df[\"motion\"].astype(int)\n",
    "period_df = df[[\"ts\", \"light\"]]\n",
    "period_df['light'].describe()"
   ]
  },
  {
   "cell_type": "code",
   "execution_count": 24,
   "metadata": {},
   "outputs": [
    {
     "name": "stderr",
     "output_type": "stream",
     "text": [
      "/home/maria/miniconda3/lib/python3.8/site-packages/pandas/core/generic.py:5491: SettingWithCopyWarning: \n",
      "A value is trying to be set on a copy of a slice from a DataFrame.\n",
      "Try using .loc[row_indexer,col_indexer] = value instead\n",
      "\n",
      "See the caveats in the documentation: https://pandas.pydata.org/pandas-docs/stable/user_guide/indexing.html#returning-a-view-versus-a-copy\n",
      "  self[name] = value\n"
     ]
    },
    {
     "data": {
      "text/html": [
       "<div>\n",
       "<style scoped>\n",
       "    .dataframe tbody tr th:only-of-type {\n",
       "        vertical-align: middle;\n",
       "    }\n",
       "\n",
       "    .dataframe tbody tr th {\n",
       "        vertical-align: top;\n",
       "    }\n",
       "\n",
       "    .dataframe thead th {\n",
       "        text-align: right;\n",
       "    }\n",
       "</style>\n",
       "<table border=\"1\" class=\"dataframe\">\n",
       "  <thead>\n",
       "    <tr style=\"text-align: right;\">\n",
       "      <th></th>\n",
       "      <th>light</th>\n",
       "      <th>light off</th>\n",
       "      <th>light on</th>\n",
       "    </tr>\n",
       "    <tr>\n",
       "      <th>ts</th>\n",
       "      <th></th>\n",
       "      <th></th>\n",
       "      <th></th>\n",
       "    </tr>\n",
       "  </thead>\n",
       "  <tbody>\n",
       "    <tr>\n",
       "      <th>2020-07-12 00:00:00</th>\n",
       "      <td>35</td>\n",
       "      <td>90</td>\n",
       "      <td>35</td>\n",
       "    </tr>\n",
       "    <tr>\n",
       "      <th>2020-07-12 00:05:00</th>\n",
       "      <td>45</td>\n",
       "      <td>132</td>\n",
       "      <td>45</td>\n",
       "    </tr>\n",
       "    <tr>\n",
       "      <th>2020-07-12 00:10:00</th>\n",
       "      <td>45</td>\n",
       "      <td>129</td>\n",
       "      <td>45</td>\n",
       "    </tr>\n",
       "    <tr>\n",
       "      <th>2020-07-12 00:15:00</th>\n",
       "      <td>49</td>\n",
       "      <td>127</td>\n",
       "      <td>49</td>\n",
       "    </tr>\n",
       "    <tr>\n",
       "      <th>2020-07-12 00:20:00</th>\n",
       "      <td>52</td>\n",
       "      <td>131</td>\n",
       "      <td>52</td>\n",
       "    </tr>\n",
       "    <tr>\n",
       "      <th>...</th>\n",
       "      <td>...</td>\n",
       "      <td>...</td>\n",
       "      <td>...</td>\n",
       "    </tr>\n",
       "    <tr>\n",
       "      <th>2020-07-19 23:40:00</th>\n",
       "      <td>43</td>\n",
       "      <td>125</td>\n",
       "      <td>43</td>\n",
       "    </tr>\n",
       "    <tr>\n",
       "      <th>2020-07-19 23:45:00</th>\n",
       "      <td>43</td>\n",
       "      <td>126</td>\n",
       "      <td>43</td>\n",
       "    </tr>\n",
       "    <tr>\n",
       "      <th>2020-07-19 23:50:00</th>\n",
       "      <td>44</td>\n",
       "      <td>128</td>\n",
       "      <td>44</td>\n",
       "    </tr>\n",
       "    <tr>\n",
       "      <th>2020-07-19 23:55:00</th>\n",
       "      <td>49</td>\n",
       "      <td>129</td>\n",
       "      <td>49</td>\n",
       "    </tr>\n",
       "    <tr>\n",
       "      <th>2020-07-20 00:00:00</th>\n",
       "      <td>32</td>\n",
       "      <td>96</td>\n",
       "      <td>32</td>\n",
       "    </tr>\n",
       "  </tbody>\n",
       "</table>\n",
       "<p>2305 rows × 3 columns</p>\n",
       "</div>"
      ],
      "text/plain": [
       "                     light  light off  light on\n",
       "ts                                             \n",
       "2020-07-12 00:00:00     35         90        35\n",
       "2020-07-12 00:05:00     45        132        45\n",
       "2020-07-12 00:10:00     45        129        45\n",
       "2020-07-12 00:15:00     49        127        49\n",
       "2020-07-12 00:20:00     52        131        52\n",
       "...                    ...        ...       ...\n",
       "2020-07-19 23:40:00     43        125        43\n",
       "2020-07-19 23:45:00     43        126        43\n",
       "2020-07-19 23:50:00     44        128        44\n",
       "2020-07-19 23:55:00     49        129        49\n",
       "2020-07-20 00:00:00     32         96        32\n",
       "\n",
       "[2305 rows x 3 columns]"
      ]
     },
     "execution_count": 24,
     "metadata": {},
     "output_type": "execute_result"
    }
   ],
   "source": [
    "#sum over period of 5 min\n",
    "period_df.ts = pd.to_datetime(period_df[\"ts\"], unit = 's')\n",
    "period_df.resample('5T', on='ts').sum()"
   ]
  },
  {
   "cell_type": "code",
   "execution_count": 25,
   "metadata": {},
   "outputs": [
    {
     "name": "stdout",
     "output_type": "stream",
     "text": [
      "ts\n",
      "2020-07-12 00:00:00    274\n",
      "2020-07-12 00:30:00    295\n",
      "2020-07-12 01:00:00    304\n",
      "2020-07-12 01:30:00    316\n",
      "2020-07-12 02:00:00    320\n",
      "                      ... \n",
      "2020-07-19 22:00:00    254\n",
      "2020-07-19 22:30:00    254\n",
      "2020-07-19 23:00:00    264\n",
      "2020-07-19 23:30:00    265\n",
      "2020-07-20 00:00:00     32\n",
      "Freq: 30T, Name: light, Length: 385, dtype: int64\n"
     ]
    }
   ],
   "source": [
    "#sum over period of 30 min\n",
    "period_30=period_df.resample('30T', on='ts').sum()\n",
    "print(period_30[\"light\"])"
   ]
  },
  {
   "cell_type": "code",
   "execution_count": 26,
   "metadata": {},
   "outputs": [
    {
     "data": {
      "text/plain": [
       "[<matplotlib.lines.Line2D at 0x7f3356a05700>]"
      ]
     },
     "execution_count": 26,
     "metadata": {},
     "output_type": "execute_result"
    },
    {
     "data": {
      "image/png": "[encoded data removed]",
      "text/plain": [
       "<Figure size 432x288 with 1 Axes>"
      ]
     },
     "metadata": {
      "needs_background": "light"
     },
     "output_type": "display_data"
    }
   ],
   "source": [
    "#plot count 'light on' every 30 min\n",
    "plt.xlabel(\"Periods of 30 min\")\n",
    "plt.ylabel(\"Count 'light on'\")\n",
    "plt.title(\"Distribution of the minority class\")\n",
    "plt.plot(period_30.index, period_30.light)"
   ]
  },
  {
   "cell_type": "code",
   "execution_count": 27,
   "metadata": {},
   "outputs": [
    {
     "data": {
      "text/plain": [
       "[<matplotlib.lines.Line2D at 0x7f33568fefd0>]"
      ]
     },
     "execution_count": 27,
     "metadata": {},
     "output_type": "execute_result"
    },
    {
     "data": {
      "image/png": "[encoded data removed]",
      "text/plain": [
       "<Figure size 432x288 with 1 Axes>"
      ]
     },
     "metadata": {
      "needs_background": "light"
     },
     "output_type": "display_data"
    }
   ],
   "source": [
    "#plot day total light on every 5 min\n",
    "period_5=period_df.resample('5T', on='ts').sum()\n",
    "plt.plot(period_df.resample('5T', on='ts').sum().index, period_5.light)"
   ]
  },
  {
   "cell_type": "code",
   "execution_count": 34,
   "metadata": {},
   "outputs": [
    {
     "name": "stderr",
     "output_type": "stream",
     "text": [
      "<ipython-input-34-f38c25f460ea>:2: SettingWithCopyWarning: \n",
      "A value is trying to be set on a copy of a slice from a DataFrame.\n",
      "Try using .loc[row_indexer,col_indexer] = value instead\n",
      "\n",
      "See the caveats in the documentation: https://pandas.pydata.org/pandas-docs/stable/user_guide/indexing.html#returning-a-view-versus-a-copy\n",
      "  period_df[\"light off\"]= (period_df[\"light\"] + 1).mod(2)\n",
      "<ipython-input-34-f38c25f460ea>:3: SettingWithCopyWarning: \n",
      "A value is trying to be set on a copy of a slice from a DataFrame.\n",
      "Try using .loc[row_indexer,col_indexer] = value instead\n",
      "\n",
      "See the caveats in the documentation: https://pandas.pydata.org/pandas-docs/stable/user_guide/indexing.html#returning-a-view-versus-a-copy\n",
      "  period_df[\"light on\"]=period_df[\"light\"]\n"
     ]
    },
    {
     "data": {
      "text/plain": [
       "<AxesSubplot:title={'center':'Distribution minority vs majority class'}, xlabel='ts'>"
      ]
     },
     "execution_count": 34,
     "metadata": {},
     "output_type": "execute_result"
    },
    {
     "data": {
      "image/png": "[encoded data removed]",
      "text/plain": [
       "<Figure size 720x360 with 1 Axes>"
      ]
     },
     "metadata": {
      "needs_background": "light"
     },
     "output_type": "display_data"
    }
   ],
   "source": [
    "# Plot the majority class \"light off\" as well\n",
    "period_df[\"light off\"]= (period_df[\"light\"] + 1).mod(2)\n",
    "period_df[\"light on\"]=period_df[\"light\"]\n",
    "period_df.drop([\"light\"], axis=1)\n",
    "period2 = period_df.resample('30T', on='ts').sum()\n",
    "# plt.plot(x=period2.index, y=[period2.light, period2.lightoff], kind=\"bar\")\n",
    "period2.plot(figsize=(10,5), grid=True, title=\"Distribution minority vs majority class\" )"
   ]
  },
  {
   "cell_type": "code",
   "execution_count": 22,
   "metadata": {},
   "outputs": [
    {
     "data": {
      "text/plain": [
       "<AxesSubplot:xlabel='ts'>"
      ]
     },
     "execution_count": 22,
     "metadata": {},
     "output_type": "execute_result"
    },
    {
     "data": {
      "image/png": "[encoded data removed]",
      "text/plain": [
       "<Figure size 720x360 with 1 Axes>"
      ]
     },
     "metadata": {
      "needs_background": "light"
     },
     "output_type": "display_data"
    }
   ],
   "source": [
    "period2.plot(figsize=(10,5), kind=\"bar\",stacked=True)"
   ]
  },
  {
   "cell_type": "code",
   "execution_count": 35,
   "metadata": {},
   "outputs": [],
   "source": [
    "#split dataset in features and target label\n",
    "X = df[feature_cols] # Features\n",
    "y = df['light'] # Target label\n",
    "X_train, X_test, y_train, y_test = train_test_split(X,y, test_size=0.15, random_state=0)"
   ]
  },
  {
   "cell_type": "code",
   "execution_count": 36,
   "metadata": {},
   "outputs": [
    {
     "data": {
      "text/html": [
       "<div>\n",
       "<style scoped>\n",
       "    .dataframe tbody tr th:only-of-type {\n",
       "        vertical-align: middle;\n",
       "    }\n",
       "\n",
       "    .dataframe tbody tr th {\n",
       "        vertical-align: top;\n",
       "    }\n",
       "\n",
       "    .dataframe thead th {\n",
       "        text-align: right;\n",
       "    }\n",
       "</style>\n",
       "<table border=\"1\" class=\"dataframe\">\n",
       "  <thead>\n",
       "    <tr style=\"text-align: right;\">\n",
       "      <th></th>\n",
       "      <th>co</th>\n",
       "      <th>humidity</th>\n",
       "      <th>lpg</th>\n",
       "      <th>motion</th>\n",
       "      <th>smoke</th>\n",
       "      <th>temp</th>\n",
       "    </tr>\n",
       "  </thead>\n",
       "  <tbody>\n",
       "    <tr>\n",
       "      <th>32759</th>\n",
       "      <td>0.004928</td>\n",
       "      <td>52.200000</td>\n",
       "      <td>0.007619</td>\n",
       "      <td>0</td>\n",
       "      <td>0.020321</td>\n",
       "      <td>22.300000</td>\n",
       "    </tr>\n",
       "    <tr>\n",
       "      <th>23643</th>\n",
       "      <td>0.003006</td>\n",
       "      <td>75.400002</td>\n",
       "      <td>0.005328</td>\n",
       "      <td>0</td>\n",
       "      <td>0.013869</td>\n",
       "      <td>19.500000</td>\n",
       "    </tr>\n",
       "    <tr>\n",
       "      <th>18177</th>\n",
       "      <td>0.002840</td>\n",
       "      <td>75.000000</td>\n",
       "      <td>0.005114</td>\n",
       "      <td>0</td>\n",
       "      <td>0.013275</td>\n",
       "      <td>19.299999</td>\n",
       "    </tr>\n",
       "    <tr>\n",
       "      <th>274290</th>\n",
       "      <td>0.001376</td>\n",
       "      <td>76.599998</td>\n",
       "      <td>0.003028</td>\n",
       "      <td>0</td>\n",
       "      <td>0.007585</td>\n",
       "      <td>19.900000</td>\n",
       "    </tr>\n",
       "    <tr>\n",
       "      <th>186474</th>\n",
       "      <td>0.005024</td>\n",
       "      <td>52.800000</td>\n",
       "      <td>0.007726</td>\n",
       "      <td>0</td>\n",
       "      <td>0.020626</td>\n",
       "      <td>22.700000</td>\n",
       "    </tr>\n",
       "    <tr>\n",
       "      <th>...</th>\n",
       "      <td>...</td>\n",
       "      <td>...</td>\n",
       "      <td>...</td>\n",
       "      <td>...</td>\n",
       "      <td>...</td>\n",
       "      <td>...</td>\n",
       "    </tr>\n",
       "    <tr>\n",
       "      <th>244298</th>\n",
       "      <td>0.006207</td>\n",
       "      <td>52.200000</td>\n",
       "      <td>0.009004</td>\n",
       "      <td>0</td>\n",
       "      <td>0.024289</td>\n",
       "      <td>21.800000</td>\n",
       "    </tr>\n",
       "    <tr>\n",
       "      <th>32</th>\n",
       "      <td>0.004391</td>\n",
       "      <td>78.599998</td>\n",
       "      <td>0.007009</td>\n",
       "      <td>0</td>\n",
       "      <td>0.018589</td>\n",
       "      <td>27.000000</td>\n",
       "    </tr>\n",
       "    <tr>\n",
       "      <th>366038</th>\n",
       "      <td>0.005756</td>\n",
       "      <td>50.600000</td>\n",
       "      <td>0.008526</td>\n",
       "      <td>0</td>\n",
       "      <td>0.022915</td>\n",
       "      <td>22.900000</td>\n",
       "    </tr>\n",
       "    <tr>\n",
       "      <th>77469</th>\n",
       "      <td>0.003745</td>\n",
       "      <td>76.400002</td>\n",
       "      <td>0.006247</td>\n",
       "      <td>0</td>\n",
       "      <td>0.016437</td>\n",
       "      <td>19.700001</td>\n",
       "    </tr>\n",
       "    <tr>\n",
       "      <th>271210</th>\n",
       "      <td>0.005899</td>\n",
       "      <td>50.900000</td>\n",
       "      <td>0.008679</td>\n",
       "      <td>0</td>\n",
       "      <td>0.023353</td>\n",
       "      <td>22.200000</td>\n",
       "    </tr>\n",
       "  </tbody>\n",
       "</table>\n",
       "<p>60778 rows × 6 columns</p>\n",
       "</div>"
      ],
      "text/plain": [
       "              co   humidity       lpg  motion     smoke       temp\n",
       "32759   0.004928  52.200000  0.007619       0  0.020321  22.300000\n",
       "23643   0.003006  75.400002  0.005328       0  0.013869  19.500000\n",
       "18177   0.002840  75.000000  0.005114       0  0.013275  19.299999\n",
       "274290  0.001376  76.599998  0.003028       0  0.007585  19.900000\n",
       "186474  0.005024  52.800000  0.007726       0  0.020626  22.700000\n",
       "...          ...        ...       ...     ...       ...        ...\n",
       "244298  0.006207  52.200000  0.009004       0  0.024289  21.800000\n",
       "32      0.004391  78.599998  0.007009       0  0.018589  27.000000\n",
       "366038  0.005756  50.600000  0.008526       0  0.022915  22.900000\n",
       "77469   0.003745  76.400002  0.006247       0  0.016437  19.700001\n",
       "271210  0.005899  50.900000  0.008679       0  0.023353  22.200000\n",
       "\n",
       "[60778 rows x 6 columns]"
      ]
     },
     "execution_count": 36,
     "metadata": {},
     "output_type": "execute_result"
    }
   ],
   "source": [
    "X_test"
   ]
  },
  {
   "cell_type": "code",
   "execution_count": 37,
   "metadata": {},
   "outputs": [],
   "source": [
    "# train the Hoeffding Tree on the entire data set (not incrementally)\n",
    "ht_full = HoeffdingTreeClassifier()"
   ]
  },
  {
   "cell_type": "code",
   "execution_count": 34,
   "metadata": {},
   "outputs": [],
   "source": [
    "X = X_train\n",
    "y = y_train.to_numpy()\n",
    "classes=[0,1]"
   ]
  },
  {
   "cell_type": "code",
   "execution_count": 35,
   "metadata": {},
   "outputs": [
    {
     "name": "stdout",
     "output_type": "stream",
     "text": [
      "[0.69231233 0.69231233 0.69231233 ... 0.69231233 0.69231233 0.69231233]\n"
     ]
    }
   ],
   "source": [
    "# Apply sample weights\n",
    "from sklearn.utils.class_weight import compute_sample_weight\n",
    "y=y_train.to_numpy()\n",
    "sample_weight=compute_sample_weight(class_weight='balanced', y=y)\n",
    "print(sample_weight)"
   ]
  },
  {
   "cell_type": "code",
   "execution_count": 36,
   "metadata": {},
   "outputs": [
    {
     "data": {
      "text/plain": [
       "HoeffdingTreeClassifier(binary_split=False, grace_period=200,\n",
       "                        leaf_prediction='nba', max_byte_size=33554432,\n",
       "                        memory_estimate_period=1000000, nb_threshold=0,\n",
       "                        no_preprune=False, nominal_attributes=None,\n",
       "                        remove_poor_atts=False, split_confidence=1e-07,\n",
       "                        split_criterion='info_gain', stop_mem_management=False,\n",
       "                        tie_threshold=0.05)"
      ]
     },
     "execution_count": 36,
     "metadata": {},
     "output_type": "execute_result"
    }
   ],
   "source": [
    "# train the model\n",
    "ht_full.fit(X.to_numpy(),y,classes, sample_weight)"
   ]
  },
  {
   "cell_type": "code",
   "execution_count": 37,
   "metadata": {},
   "outputs": [
    {
     "name": "stdout",
     "output_type": "stream",
     "text": [
      "[0 0 0 ... 0 0 0]\n"
     ]
    }
   ],
   "source": [
    "# predict the class label for test dataset\n",
    "y_pred = ht_full.predict(X_test.to_numpy())"
   ]
  },
  {
   "cell_type": "code",
   "execution_count": 38,
   "metadata": {},
   "outputs": [],
   "source": [
    "# What is the performance of this classifier?\n",
    "from sklearn import metrics \n",
    "from sklearn.metrics import f1_score, accuracy_score, precision_score, recall_score"
   ]
  },
  {
   "cell_type": "code",
   "execution_count": 39,
   "metadata": {},
   "outputs": [
    {
     "name": "stdout",
     "output_type": "stream",
     "text": [
      "Accuracy (test set): 0.984533877389845\n"
     ]
    }
   ],
   "source": [
    "# Accuracy by comparing test set values and predicted values\n",
    "\n",
    "print(\"Accuracy (test set):\", accuracy_score(y_test.to_numpy(), y_pred))\n",
    "# Accuracy (test set):  0.984533877389845"
   ]
  },
  {
   "cell_type": "code",
   "execution_count": 44,
   "metadata": {},
   "outputs": [
    {
     "name": "stdout",
     "output_type": "stream",
     "text": [
      "[0.69190137 0.69190137 0.69190137 ... 0.69190137 0.69190137 0.69190137]\n"
     ]
    }
   ],
   "source": [
    "from sklearn.utils.class_weight import compute_sample_weight\n",
    "sample_weight_test=compute_sample_weight(class_weight='balanced', y=y_test.to_numpy())\n",
    "print(sample_weight_test)\n",
    "\n",
    "ht_full_mean_accuracy = ht_full.score(X_test.to_numpy(), y_test.to_numpy(), sample_weight_test)"
   ]
  },
  {
   "cell_type": "code",
   "execution_count": 41,
   "metadata": {},
   "outputs": [
    {
     "name": "stdout",
     "output_type": "stream",
     "text": [
      "0.9780584953005323\n"
     ]
    }
   ],
   "source": [
    "print(ht_full_mean_accuracy)\n",
    "#0.9780584953005323"
   ]
  },
  {
   "cell_type": "code",
   "execution_count": 42,
   "metadata": {},
   "outputs": [
    {
     "name": "stdout",
     "output_type": "stream",
     "text": [
      "Accuracy (training set): 0.9846344140345987\n"
     ]
    }
   ],
   "source": [
    "# Accuracy on the training set\n",
    "y_pred_train = ht_full.predict(X_train.to_numpy())\n",
    "print(\"Accuracy (training set):\", accuracy_score(y_train,y_pred_train))\n",
    "#Accuracy (training set): 0.9848057136686874"
   ]
  },
  {
   "cell_type": "code",
   "execution_count": 43,
   "metadata": {},
   "outputs": [
    {
     "name": "stdout",
     "output_type": "stream",
     "text": [
      "F1 score (test set): 0.9777347167729984\n"
     ]
    }
   ],
   "source": [
    "print(\"F1 score (test set):\", f1_score(y_test, y_pred, sample_weight=sample_weight_test))\n",
    "# F1 score  (test set):  0.9777347167729984"
   ]
  },
  {
   "cell_type": "code",
   "execution_count": 44,
   "metadata": {},
   "outputs": [
    {
     "name": "stdout",
     "output_type": "stream",
     "text": [
      "Recall score (test set): 0.9635166399715251\n"
     ]
    }
   ],
   "source": [
    "print(\"Recall score (test set):\", recall_score(y_test, y_pred))\n",
    "# Recall score (test set):  0.9635166399715251"
   ]
  },
  {
   "cell_type": "code",
   "execution_count": 45,
   "metadata": {},
   "outputs": [
    {
     "data": {
      "text/plain": [
       "[<matplotlib.lines.Line2D at 0x7f67e9429580>]"
      ]
     },
     "execution_count": 45,
     "metadata": {},
     "output_type": "execute_result"
    },
    {
     "data": {
      "image/png": "[encoded data removed]",
      "text/plain": [
       "<Figure size 432x288 with 1 Axes>"
      ]
     },
     "metadata": {
      "needs_background": "light"
     },
     "output_type": "display_data"
    }
   ],
   "source": [
    "# plot the score per number of samples \n",
    "#(for the Full Tree the score will be the same)\n",
    "n_samples = len(X_train.to_numpy())\n",
    "plt.plot([0,n_samples], [ht_full_mean_accuracy, ht_full_mean_accuracy])"
   ]
  },
  {
   "cell_type": "code",
   "execution_count": 46,
   "metadata": {},
   "outputs": [],
   "source": [
    "# Conclusion: As the data set is imbalanced, the Hoeffding Tree classifier \n",
    "# is biased towards the majority class"
   ]
  },
  {
   "cell_type": "code",
   "execution_count": 49,
   "metadata": {},
   "outputs": [],
   "source": [
    "# Now stream the data points one at a time\n",
    "# We present each data point to the Hoeffding Tree algorithm one at a time"
   ]
  },
  {
   "cell_type": "code",
   "execution_count": 38,
   "metadata": {},
   "outputs": [],
   "source": [
    "# Create a Hoeffding Tree model \n",
    "# This model will be fit incrementally\n",
    "ht_plus = HoeffdingTreeClassifier()"
   ]
  },
  {
   "cell_type": "code",
   "execution_count": 42,
   "metadata": {},
   "outputs": [
    {
     "name": "stdout",
     "output_type": "stream",
     "text": [
      " F1 score after 0-th sample: 0.9423827661369947\n",
      " F1 score after 100-th sample: 0.9481663239476807\n",
      " F1 score after 200-th sample: 0.9413981974648028\n",
      " F1 score after 300-th sample: 0.9383461641542521\n",
      " F1 score after 400-th sample: 0.9488457475960465\n",
      " F1 score after 500-th sample: 0.9660244200458331\n",
      " F1 score after 600-th sample: 0.9701375655403103\n",
      " F1 score after 700-th sample: 0.9648344609996597\n",
      " F1 score after 800-th sample: 0.9607080313174299\n",
      " F1 score after 900-th sample: 0.9493389560108451\n",
      " F1 score after 1000-th sample: 0.9540095090148695\n",
      " F1 score after 1100-th sample: 0.9500896573105894\n",
      " F1 score after 1200-th sample: 0.9335871467048947\n",
      " F1 score after 1300-th sample: 0.9268495442617323\n",
      " F1 score after 1400-th sample: 0.9456655101729402\n",
      " F1 score after 1500-th sample: 0.9503877588921895\n",
      " F1 score after 1600-th sample: 0.9470389616025942\n",
      " F1 score after 1700-th sample: 0.9542990386729925\n",
      " F1 score after 1800-th sample: 0.9446246044104544\n",
      " F1 score after 1900-th sample: 0.9517819172809423\n",
      " F1 score after 2000-th sample: 0.9547151871929866\n",
      " F1 score after 2100-th sample: 0.9606875930389903\n",
      " F1 score after 2200-th sample: 0.9508325884750143\n",
      " F1 score after 2300-th sample: 0.9651980888236037\n",
      " F1 score after 2400-th sample: 0.9663664975057052\n",
      " F1 score after 2500-th sample: 0.9694886603834081\n",
      " F1 score after 2600-th sample: 0.9734000901502486\n",
      " F1 score after 2700-th sample: 0.9746608793838708\n",
      " F1 score after 2800-th sample: 0.9728622569887455\n",
      " F1 score after 2900-th sample: 0.9748228623585911\n",
      " F1 score after 3000-th sample: 0.9746568683963583\n",
      " F1 score after 3100-th sample: 0.9745733580754385\n",
      " F1 score after 3200-th sample: 0.971813284245671\n",
      " F1 score after 3300-th sample: 0.969824032592962\n",
      " F1 score after 3400-th sample: 0.9731054127712538\n",
      " F1 score after 3500-th sample: 0.9680679118670023\n",
      " F1 score after 3600-th sample: 0.9727888353789791\n",
      " F1 score after 3700-th sample: 0.9500862106698701\n",
      " F1 score after 3800-th sample: 0.9492373561093219\n",
      " F1 score after 3900-th sample: 0.9846338281493847\n",
      " F1 score after 4000-th sample: 0.9810741072416642\n",
      " F1 score after 4100-th sample: 0.9807108730075236\n",
      " F1 score after 4200-th sample: 0.9802483586552101\n",
      " F1 score after 4300-th sample: 0.9821134456952233\n",
      " F1 score after 4400-th sample: 0.9808099517452001\n",
      " F1 score after 4500-th sample: 0.9481974829659421\n",
      " F1 score after 4600-th sample: 0.9784307312789119\n",
      " F1 score after 4900-th sample: 0.9780777907955687\n",
      " F1 score after 5100-th sample: 0.9784307312789119\n",
      " F1 score after 6800-th sample: 0.9763937482776189\n",
      " F1 score after 7100-th sample: 0.981289745091189\n",
      " F1 score after 8000-th sample: 0.9813058514440561\n",
      " F1 score after 8300-th sample: 0.9812414281624383\n",
      " F1 score after 8500-th sample: 0.9811770105624837\n",
      " F1 score after 8700-th sample: 0.9812414281624383\n",
      " F1 score after 8800-th sample: 0.9812736390932602\n",
      " F1 score after 8900-th sample: 0.981289745091189\n",
      " F1 score after 9100-th sample: 0.9812736390932602\n",
      " F1 score after 9200-th sample: 0.9812414281624383\n",
      " F1 score after 9300-th sample: 0.981257533450325\n",
      " F1 score after 9400-th sample: 0.9812736390932602\n",
      " F1 score after 9700-th sample: 0.981289745091189\n",
      " F1 score after 9800-th sample: 0.9819020355177163\n",
      " F1 score after 9900-th sample: 0.9819503959750341\n",
      " F1 score after 10200-th sample: 0.9833508464165109\n",
      " F1 score after 11200-th sample: 0.9830008745040544\n",
      " F1 score after 11500-th sample: 0.9828196559431928\n",
      " F1 score after 12300-th sample: 0.9828357802438485\n",
      " F1 score after 13000-th sample: 0.9828196559431928\n",
      " F1 score after 13300-th sample: 0.9830008745040544\n",
      " F1 score after 14300-th sample: 0.9829686273737658\n",
      " F1 score after 14800-th sample: 0.9830008745040544\n",
      " F1 score after 15300-th sample: 0.9770520258287454\n",
      " F1 score after 15400-th sample: 0.9830008745040544\n",
      " F1 score after 17000-th sample: 0.9814555630714327\n",
      " F1 score after 17300-th sample: 0.9830008745040544\n",
      " F1 score after 17900-th sample: 0.9716485127395986\n",
      " F1 score after 18000-th sample: 0.9830008745040544\n",
      " F1 score after 19200-th sample: 0.9824367539880294\n",
      " F1 score after 19600-th sample: 0.9828506118967817\n",
      " F1 score after 19700-th sample: 0.9756139946669066\n",
      " F1 score after 19800-th sample: 0.982785493173357\n",
      " F1 score after 20000-th sample: 0.9824841080278996\n"
     ]
    },
    {
     "ename": "KeyboardInterrupt",
     "evalue": "",
     "output_type": "error",
     "traceback": [
      "\u001b[0;31m---------------------------------------------------------------------------\u001b[0m",
      "\u001b[0;31mKeyboardInterrupt\u001b[0m                         Traceback (most recent call last)",
      "\u001b[0;32m<ipython-input-42-ff44c6a5b753>\u001b[0m in \u001b[0;36m<module>\u001b[0;34m\u001b[0m\n\u001b[1;32m     29\u001b[0m     \u001b[0;31m# What is the score of this tree so far (on the test set)\u001b[0m\u001b[0;34m\u001b[0m\u001b[0;34m\u001b[0m\u001b[0;34m\u001b[0m\u001b[0m\n\u001b[1;32m     30\u001b[0m     \u001b[0;32mif\u001b[0m \u001b[0;34m(\u001b[0m\u001b[0mi\u001b[0m \u001b[0;34m%\u001b[0m \u001b[0maccuracy_checkpoint\u001b[0m \u001b[0;34m==\u001b[0m \u001b[0;36m0\u001b[0m\u001b[0;34m)\u001b[0m\u001b[0;34m:\u001b[0m\u001b[0;34m\u001b[0m\u001b[0;34m\u001b[0m\u001b[0m\n\u001b[0;32m---> 31\u001b[0;31m         \u001b[0my_pred\u001b[0m \u001b[0;34m=\u001b[0m \u001b[0mht_plus\u001b[0m\u001b[0;34m.\u001b[0m\u001b[0mpredict\u001b[0m\u001b[0;34m(\u001b[0m\u001b[0mX_test\u001b[0m\u001b[0;34m.\u001b[0m\u001b[0mto_numpy\u001b[0m\u001b[0;34m(\u001b[0m\u001b[0;34m)\u001b[0m\u001b[0;34m)\u001b[0m\u001b[0;34m\u001b[0m\u001b[0;34m\u001b[0m\u001b[0m\n\u001b[0m\u001b[1;32m     32\u001b[0m         \u001b[0mcurrent_f_score\u001b[0m \u001b[0;34m=\u001b[0m \u001b[0mf1_score\u001b[0m\u001b[0;34m(\u001b[0m\u001b[0my_pred\u001b[0m\u001b[0;34m,\u001b[0m \u001b[0my_test\u001b[0m\u001b[0;34m.\u001b[0m\u001b[0mto_numpy\u001b[0m\u001b[0;34m(\u001b[0m\u001b[0;34m)\u001b[0m\u001b[0;34m,\u001b[0m \u001b[0maverage\u001b[0m\u001b[0;34m=\u001b[0m\u001b[0;34m'weighted'\u001b[0m\u001b[0;34m)\u001b[0m\u001b[0;34m\u001b[0m\u001b[0;34m\u001b[0m\u001b[0m\n\u001b[1;32m     33\u001b[0m \u001b[0;34m\u001b[0m\u001b[0m\n",
      "\u001b[0;32m~/miniconda3/lib/python3.8/site-packages/skmultiflow/trees/hoeffding_tree.py\u001b[0m in \u001b[0;36mpredict\u001b[0;34m(self, X)\u001b[0m\n\u001b[1;32m    485\u001b[0m         \u001b[0mr\u001b[0m\u001b[0;34m,\u001b[0m \u001b[0m_\u001b[0m \u001b[0;34m=\u001b[0m \u001b[0mget_dimensions\u001b[0m\u001b[0;34m(\u001b[0m\u001b[0mX\u001b[0m\u001b[0;34m)\u001b[0m\u001b[0;34m\u001b[0m\u001b[0;34m\u001b[0m\u001b[0m\n\u001b[1;32m    486\u001b[0m         \u001b[0mpredictions\u001b[0m \u001b[0;34m=\u001b[0m \u001b[0;34m[\u001b[0m\u001b[0;34m]\u001b[0m\u001b[0;34m\u001b[0m\u001b[0;34m\u001b[0m\u001b[0m\n\u001b[0;32m--> 487\u001b[0;31m         \u001b[0my_proba\u001b[0m \u001b[0;34m=\u001b[0m \u001b[0mself\u001b[0m\u001b[0;34m.\u001b[0m\u001b[0mpredict_proba\u001b[0m\u001b[0;34m(\u001b[0m\u001b[0mX\u001b[0m\u001b[0;34m)\u001b[0m\u001b[0;34m\u001b[0m\u001b[0;34m\u001b[0m\u001b[0m\n\u001b[0m\u001b[1;32m    488\u001b[0m         \u001b[0;32mfor\u001b[0m \u001b[0mi\u001b[0m \u001b[0;32min\u001b[0m \u001b[0mrange\u001b[0m\u001b[0;34m(\u001b[0m\u001b[0mr\u001b[0m\u001b[0;34m)\u001b[0m\u001b[0;34m:\u001b[0m\u001b[0;34m\u001b[0m\u001b[0;34m\u001b[0m\u001b[0m\n\u001b[1;32m    489\u001b[0m             \u001b[0mindex\u001b[0m \u001b[0;34m=\u001b[0m \u001b[0mnp\u001b[0m\u001b[0;34m.\u001b[0m\u001b[0margmax\u001b[0m\u001b[0;34m(\u001b[0m\u001b[0my_proba\u001b[0m\u001b[0;34m[\u001b[0m\u001b[0mi\u001b[0m\u001b[0;34m]\u001b[0m\u001b[0;34m)\u001b[0m\u001b[0;34m\u001b[0m\u001b[0;34m\u001b[0m\u001b[0m\n",
      "\u001b[0;32m~/miniconda3/lib/python3.8/site-packages/skmultiflow/trees/hoeffding_tree.py\u001b[0m in \u001b[0;36mpredict_proba\u001b[0;34m(self, X)\u001b[0m\n\u001b[1;32m    513\u001b[0m                 \u001b[0mpredictions\u001b[0m\u001b[0;34m.\u001b[0m\u001b[0mappend\u001b[0m\u001b[0;34m(\u001b[0m\u001b[0;34m[\u001b[0m\u001b[0;36m0\u001b[0m\u001b[0;34m]\u001b[0m\u001b[0;34m)\u001b[0m\u001b[0;34m\u001b[0m\u001b[0;34m\u001b[0m\u001b[0m\n\u001b[1;32m    514\u001b[0m             \u001b[0;32melse\u001b[0m\u001b[0;34m:\u001b[0m\u001b[0;34m\u001b[0m\u001b[0;34m\u001b[0m\u001b[0m\n\u001b[0;32m--> 515\u001b[0;31m                 \u001b[0;32mif\u001b[0m \u001b[0msum\u001b[0m\u001b[0;34m(\u001b[0m\u001b[0mvotes\u001b[0m\u001b[0;34m.\u001b[0m\u001b[0mvalues\u001b[0m\u001b[0;34m(\u001b[0m\u001b[0;34m)\u001b[0m\u001b[0;34m)\u001b[0m \u001b[0;34m!=\u001b[0m \u001b[0;36m0\u001b[0m\u001b[0;34m:\u001b[0m\u001b[0;34m\u001b[0m\u001b[0;34m\u001b[0m\u001b[0m\n\u001b[0m\u001b[1;32m    516\u001b[0m                     \u001b[0mvotes\u001b[0m \u001b[0;34m=\u001b[0m \u001b[0mnormalize_values_in_dict\u001b[0m\u001b[0;34m(\u001b[0m\u001b[0mvotes\u001b[0m\u001b[0;34m,\u001b[0m \u001b[0minplace\u001b[0m\u001b[0;34m=\u001b[0m\u001b[0;32mFalse\u001b[0m\u001b[0;34m)\u001b[0m\u001b[0;34m\u001b[0m\u001b[0;34m\u001b[0m\u001b[0m\n\u001b[1;32m    517\u001b[0m                 \u001b[0;32mif\u001b[0m \u001b[0mself\u001b[0m\u001b[0;34m.\u001b[0m\u001b[0mclasses\u001b[0m \u001b[0;32mis\u001b[0m \u001b[0;32mnot\u001b[0m \u001b[0;32mNone\u001b[0m\u001b[0;34m:\u001b[0m\u001b[0;34m\u001b[0m\u001b[0;34m\u001b[0m\u001b[0m\n",
      "\u001b[0;31mKeyboardInterrupt\u001b[0m: "
     ]
    }
   ],
   "source": [
    "# Incremental Training \n",
    "# Show the F-score every 100 samples. Use holdout test set\n",
    "import datetime\n",
    "from sklearn.metrics import f1_score\n",
    "# Apply sample weights\n",
    "from sklearn.utils.class_weight import compute_sample_weight\n",
    "y=y_train.to_numpy()\n",
    "sample_weight=compute_sample_weight(class_weight='balanced', y=y)\n",
    "\n",
    "train_arr = X_train.to_numpy()\n",
    "result_f_scores=[]\n",
    "accuracy_checkpoint=100\n",
    "nbr_samples = 0\n",
    "old_score = -1\n",
    "N=1\n",
    "for i in range(len(train_arr)):\n",
    "    # We show to the algorithm N samples and their corresponing class labels\n",
    "    # where N=1\n",
    "    class_label = y_train.to_numpy()[i]\n",
    "    weight = sample_weight[i]\n",
    "    train_y = y_train\n",
    "  \n",
    "\n",
    "    # take the i-th training sample\n",
    "    ht_plus = ht_plus.partial_fit(X=train_arr[i].reshape(N,-1) \\\n",
    "                        , y=np.array([class_label]) \\\n",
    "                        , sample_weight=np.array([weight]))\n",
    "\n",
    "    # What is the score of this tree so far (on the test set)\n",
    "    if (i % accuracy_checkpoint == 0):\n",
    "        y_pred = ht_plus.predict(X_test.to_numpy())\n",
    "        current_f_score = f1_score(y_pred, y_test.to_numpy(), average='weighted')\n",
    "    \n",
    "    nbr_samples+=1\n",
    "    \n",
    "    result_f_scores.append(current_f_score)\n",
    "    if current_f_score!= old_score:\n",
    "        #print(f\" F1 score after {i}-th sample: {current_f_score}\")\n",
    "        old_score=current_f_score\n",
    "    "
   ]
  },
  {
   "cell_type": "code",
   "execution_count": 47,
   "metadata": {},
   "outputs": [
    {
     "data": {
      "text/plain": [
       "Text(0, 0.5, 'F-score')"
      ]
     },
     "execution_count": 47,
     "metadata": {},
     "output_type": "execute_result"
    },
    {
     "data": {
      "image/png": "[encoded data removed]",
      "text/plain": [
       "<Figure size 720x360 with 1 Axes>"
      ]
     },
     "metadata": {
      "needs_background": "light"
     },
     "output_type": "display_data"
    }
   ],
   "source": [
    "plt.figure(figsize=(10,5))\n",
    "# plt.plot([0,nbr_samples], [ht_full_mean_accuracy, ht_full_mean_accuracy], label=\"Hoeffding Tree - Full dataset\")\n",
    "plt.plot(result_f_scores, label=\"F-Score Incremental Hoeffding Tree\")\n",
    "plt.legend()\n",
    "plt.xlabel(\"Number Samples\")\n",
    "plt.ylabel(\"F-score\")"
   ]
  },
  {
   "cell_type": "code",
   "execution_count": 51,
   "metadata": {},
   "outputs": [
    {
     "name": "stdout",
     "output_type": "stream",
     "text": [
      "Score after 0-th sample: 0.5000000000000001\n",
      "Score after 100-th sample: 0.9518466047002583\n",
      "Score after 200-th sample: 0.9020400061510885\n",
      "Score after 900-th sample: 0.9325354502806296\n",
      "Score after 1000-th sample: 0.9020400061510885\n",
      "Score after 1100-th sample: 0.9023473762018612\n",
      "Score after 1400-th sample: 0.9023587602778158\n",
      "Score after 1500-th sample: 0.9023701443537704\n",
      "Score after 1600-th sample: 0.9356494660984536\n",
      "Score after 1700-th sample: 0.9419844420005792\n",
      "Score after 1800-th sample: 0.9383891648276258\n",
      "Score after 1900-th sample: 0.9489636139715587\n",
      "Score after 2000-th sample: 0.951255155457793\n",
      "Score after 2100-th sample: 0.957644337579327\n",
      "Score after 2200-th sample: 0.9479720506233333\n",
      "Score after 2300-th sample: 0.9611973180173272\n",
      "Score after 2400-th sample: 0.9622497706730339\n",
      "Score after 2500-th sample: 0.9651119780513451\n",
      "Score after 2600-th sample: 0.9670382890445237\n",
      "Score after 2700-th sample: 0.967566760852151\n",
      "Score after 2800-th sample: 0.9659891786081857\n",
      "Score after 2900-th sample: 0.966722250428825\n",
      "Score after 3000-th sample: 0.9665832393605114\n",
      "Score after 3100-th sample: 0.9663214056135566\n",
      "Score after 3200-th sample: 0.964925968584864\n",
      "Score after 3300-th sample: 0.9639951898676195\n",
      "Score after 3400-th sample: 0.9653043586023934\n",
      "Score after 3500-th sample: 0.9633007612343918\n",
      "Score after 3600-th sample: 0.9649490500909432\n",
      "Score after 3700-th sample: 0.9624379736187045\n",
      "Score after 3800-th sample: 0.9616180067958066\n",
      "Score after 3900-th sample: 0.9609712032690858\n",
      "Score after 4000-th sample: 0.9135560048865262\n",
      "Score after 4100-th sample: 0.9133534936762031\n",
      "Score after 4200-th sample: 0.9134376731674327\n",
      "Score after 4300-th sample: 0.913077560342265\n",
      "Score after 4400-th sample: 0.9132824737094469\n",
      "Score after 4500-th sample: 0.9133801260793202\n",
      "Score after 4600-th sample: 0.9141980040995289\n",
      "Score after 4700-th sample: 0.9111874903796388\n",
      "Score after 4800-th sample: 0.9114879673140048\n",
      "Score after 4900-th sample: 0.9117998283243257\n",
      "Score after 5000-th sample: 0.9116997737975937\n",
      "Score after 5100-th sample: 0.9086065426808229\n",
      "Score after 5200-th sample: 0.908274002321282\n",
      "Score after 5300-th sample: 0.9082146797846502\n",
      "Score after 5400-th sample: 0.9079435507644297\n",
      "Score after 5500-th sample: 0.9030076526072257\n",
      "Score after 5700-th sample: 0.9618625020622453\n",
      "Score after 5800-th sample: 0.9662158153882662\n",
      "Score after 5900-th sample: 0.9280464714823253\n",
      "Score after 6000-th sample: 0.969365654205972\n",
      "Score after 6100-th sample: 0.9696730242567451\n",
      "Score after 6200-th sample: 0.9699234739277454\n",
      "Score after 6600-th sample: 0.9698437853960635\n",
      "Score after 6700-th sample: 0.9696616401807906\n",
      "Score after 6800-th sample: 0.9696047198010178\n",
      "Score after 6900-th sample: 0.9696161038769724\n",
      "Score after 7000-th sample: 0.9696047198010178\n",
      "Score after 7200-th sample: 0.9696161038769724\n",
      "Score after 7300-th sample: 0.9696957924086542\n",
      "Score after 7500-th sample: 0.9697071764846088\n",
      "Score after 7600-th sample: 0.969650256104836\n",
      "Score after 7700-th sample: 0.9696957924086542\n",
      "Score after 7800-th sample: 0.969627487952927\n",
      "Score after 7900-th sample: 0.9696616401807906\n",
      "Score after 8000-th sample: 0.969650256104836\n",
      "Score after 8100-th sample: 0.9696730242567451\n",
      "Score after 8200-th sample: 0.969627487952927\n",
      "Score after 8300-th sample: 0.969650256104836\n",
      "Score after 8500-th sample: 0.9674437294958406\n",
      "Score after 8600-th sample: 0.9611919909964379\n",
      "Score after 8700-th sample: 0.9612375273002561\n",
      "Score after 8800-th sample: 0.9612147591483471\n",
      "Score after 8900-th sample: 0.9611578387685743\n",
      "Score after 9000-th sample: 0.9611464546926197\n",
      "Score after 9100-th sample: 0.9652709377593705\n",
      "Score after 9200-th sample: 0.965225401455552\n",
      "Score after 9300-th sample: 0.9677169473187498\n",
      "Score after 9800-th sample: 0.968933059319699\n",
      "Score after 9900-th sample: 0.9687533162612851\n",
      "Score after 10000-th sample: 0.9687305481093761\n",
      "Score after 10100-th sample: 0.9686850118055579\n",
      "Score after 10200-th sample: 0.9696502561048359\n",
      "Score after 10300-th sample: 0.9696161038769723\n",
      "Score after 10400-th sample: 0.9696388720288813\n",
      "Score after 10500-th sample: 0.9696616401807905\n",
      "Score after 10600-th sample: 0.9696388720288813\n",
      "Score after 10700-th sample: 0.9696274879529269\n",
      "Score after 10800-th sample: 0.9696730242567451\n",
      "Score after 10900-th sample: 0.9696274879529269\n",
      "Score after 11000-th sample: 0.9696730242567451\n",
      "Score after 11400-th sample: 0.9696616401807905\n",
      "Score after 11600-th sample: 0.9696730242567451\n"
     ]
    },
    {
     "ename": "KeyboardInterrupt",
     "evalue": "",
     "output_type": "error",
     "traceback": [
      "\u001b[0;31m---------------------------------------------------------------------------\u001b[0m",
      "\u001b[0;31mKeyboardInterrupt\u001b[0m                         Traceback (most recent call last)",
      "\u001b[0;32m<ipython-input-51-00334f36335b>\u001b[0m in \u001b[0;36m<module>\u001b[0;34m\u001b[0m\n\u001b[1;32m     14\u001b[0m     \u001b[0mweight\u001b[0m \u001b[0;34m=\u001b[0m \u001b[0msample_weight\u001b[0m\u001b[0;34m[\u001b[0m\u001b[0mi\u001b[0m\u001b[0;34m]\u001b[0m\u001b[0;34m\u001b[0m\u001b[0;34m\u001b[0m\u001b[0m\n\u001b[1;32m     15\u001b[0m     \u001b[0mtrain_y\u001b[0m \u001b[0;34m=\u001b[0m \u001b[0my_train\u001b[0m\u001b[0;34m\u001b[0m\u001b[0;34m\u001b[0m\u001b[0m\n\u001b[0;32m---> 16\u001b[0;31m     \u001b[0mtrain_arr\u001b[0m \u001b[0;34m=\u001b[0m \u001b[0mX_train\u001b[0m\u001b[0;34m.\u001b[0m\u001b[0mto_numpy\u001b[0m\u001b[0;34m(\u001b[0m\u001b[0;34m)\u001b[0m\u001b[0;34m\u001b[0m\u001b[0;34m\u001b[0m\u001b[0m\n\u001b[0m\u001b[1;32m     17\u001b[0m \u001b[0;34m\u001b[0m\u001b[0m\n\u001b[1;32m     18\u001b[0m     \u001b[0;31m# take the i-th training sample\u001b[0m\u001b[0;34m\u001b[0m\u001b[0;34m\u001b[0m\u001b[0;34m\u001b[0m\u001b[0m\n",
      "\u001b[0;31mKeyboardInterrupt\u001b[0m: "
     ]
    }
   ],
   "source": [
    "# Incremental Training \n",
    "# Show the accuracy every 100 samples. Use holdout test set\n",
    "import datetime\n",
    "\n",
    "train_arr = X_train.to_numpy()\n",
    "result_scores=[]\n",
    "accuracy_checkpoint=100\n",
    "nbr_samples = 0\n",
    "old_score = -1\n",
    "N=1\n",
    "for i in range(len(train_arr)):\n",
    "    # We show to the algorithm N samples and their corresponing class labels\n",
    "    # where N=1\n",
    "    class_label = y_train.to_numpy()[i]\n",
    "    weight = sample_weight[i]\n",
    "    train_y = y_train\n",
    "  \n",
    "\n",
    "    # take the i-th training sample\n",
    "    ht_plus = ht_plus.partial_fit(X=train_arr[i].reshape(N,-1) \\\n",
    "                        , y=np.array([class_label]) \\\n",
    "                        , sample_weight=np.array([weight]))\n",
    "\n",
    "    # What is the score of this tree so far (on the test set)\n",
    "    if (i % accuracy_checkpoint == 0):\n",
    "        current_score = ht_plus.score(X_test.to_numpy(), y_test.to_numpy(), sample_weight_test)\n",
    "    \n",
    "    nbr_samples+=1\n",
    "    \n",
    "    result_scores.append(current_score)\n",
    "    if current_score!= old_score:\n",
    "        print(f\"Score after {i}-th sample: {current_score}\")\n",
    "        old_score=current_score\n",
    "    \n",
    "        \n",
    "# Results\n",
    "\n",
    "\n"
   ]
  },
  {
   "cell_type": "code",
   "execution_count": 52,
   "metadata": {},
   "outputs": [
    {
     "name": "stdout",
     "output_type": "stream",
     "text": [
      "11641\n"
     ]
    }
   ],
   "source": [
    "print(nbr_samples)"
   ]
  },
  {
   "cell_type": "code",
   "execution_count": 53,
   "metadata": {},
   "outputs": [
    {
     "data": {
      "text/plain": [
       "Text(0, 0.5, 'Accuracy')"
      ]
     },
     "execution_count": 53,
     "metadata": {},
     "output_type": "execute_result"
    },
    {
     "data": {
      "image/png": "[encoded data removed]",
      "text/plain": [
       "<Figure size 720x360 with 1 Axes>"
      ]
     },
     "metadata": {
      "needs_background": "light"
     },
     "output_type": "display_data"
    }
   ],
   "source": [
    "plt.figure(figsize=(10,5))\n",
    "plt.plot([0,nbr_samples], [ht_full_mean_accuracy, ht_full_mean_accuracy], label=\"Hoeffding Tree - Full dataset\")\n",
    "plt.plot(result_scores, label=\"Incremental Hoeffding Tree\")\n",
    "plt.legend()\n",
    "plt.xlabel(\"Number Samples\")\n",
    "plt.ylabel(\"Accuracy\")"
   ]
  },
  {
   "cell_type": "code",
   "execution_count": 5,
   "metadata": {},
   "outputs": [],
   "source": [
    "# train the Hoeffding tree with reservoir sampling\n",
    "# for every N=100 samples choose randomly and uniformy k=10 elements\n",
    "# train the Hoeffding Tree with the reservoir\n"
   ]
  },
  {
   "cell_type": "code",
   "execution_count": 61,
   "metadata": {},
   "outputs": [],
   "source": [
    "def reservoir_sampling(data, k):\n",
    "    ''' Return k randomly and uniformly selected items \n",
    "        from data\n",
    "    '''\n",
    "    reservoir=[]\n",
    "    for i, element in enumerate(data):\n",
    "        if (i+1 <=k):\n",
    "            reservoir.append(element)\n",
    "        else:\n",
    "            probability =k/(i+1)\n",
    "            if random.random()<probability:\n",
    "                # choose randomly one of the items already selected\n",
    "                m=random.randint(0,k-1)\n",
    "                reservoir[m]=element\n",
    "  \n",
    "    return reservoir            "
   ]
  },
  {
   "cell_type": "code",
   "execution_count": 7,
   "metadata": {},
   "outputs": [],
   "source": [
    "# data preparation\n",
    "df=pd.read_csv(\"iot_telemetry_data.csv\")\n",
    "df[\"light\"]=df[\"light\"].astype(int)\n",
    "df[\"motion\"]=df[\"motion\"].astype(int)\n",
    "select_cols = ['co', 'humidity', 'lpg', 'motion','smoke','temp', 'light']\n",
    "data = df[select_cols].to_numpy()"
   ]
  },
  {
   "cell_type": "code",
   "execution_count": 19,
   "metadata": {},
   "outputs": [
    {
     "name": "stdout",
     "output_type": "stream",
     "text": [
      "[2.84008861e-03 7.65000000e+01 5.11438340e-03 0.00000000e+00\n",
      " 1.32748367e-02 2.00000000e+01]\n",
      "0.0\n",
      "[3.66874115e-03 6.24000015e+01 6.15495831e-03 0.00000000e+00\n",
      " 1.61787517e-02 2.63999996e+01]\n",
      "1.0\n",
      "[4.49253512e-03 5.52000008e+01 7.12633408e-03 0.00000000e+00\n",
      " 1.89201788e-02 2.88999996e+01]\n",
      "1.0\n",
      "[1.44256028e-03 7.76999969e+01 3.13306392e-03 0.00000000e+00\n",
      " 7.86492221e-03 1.92999992e+01]\n",
      "0.0\n",
      "[2.74646396e-03 7.26999969e+01 4.99185514e-03 0.00000000e+00\n",
      " 1.29353992e-02 1.91000004e+01]\n",
      "1.0\n",
      "reservoir********************\n",
      "[array([2.84008861e-03, 7.65000000e+01, 5.11438340e-03, 0.00000000e+00,\n",
      "       1.32748367e-02, 2.00000000e+01, 0.00000000e+00]), array([3.66874115e-03, 6.24000015e+01, 6.15495831e-03, 0.00000000e+00,\n",
      "       1.61787517e-02, 2.63999996e+01, 1.00000000e+00]), array([4.49253512e-03, 5.52000008e+01, 7.12633408e-03, 0.00000000e+00,\n",
      "       1.89201788e-02, 2.88999996e+01, 1.00000000e+00]), array([1.44256028e-03, 7.76999969e+01, 3.13306392e-03, 0.00000000e+00,\n",
      "       7.86492221e-03, 1.92999992e+01, 0.00000000e+00]), array([2.74646396e-03, 7.26999969e+01, 4.99185514e-03, 0.00000000e+00,\n",
      "       1.29353992e-02, 1.91000004e+01, 1.00000000e+00])]\n"
     ]
    }
   ],
   "source": [
    "# test reservoir sampling\n",
    "reservoir = reservoir_sampling(data, 5)\n",
    "for r in reservoir:\n",
    "    X=r[:-1]  # take the feature columns\n",
    "    class_label = r[-1] \n",
    "#     print(X)\n",
    "#     print(class_label)\n",
    "# type(data)\n",
    "# numpy.ndarray\n",
    "print(\"reservoir********************\")\n",
    "print(reservoir)"
   ]
  },
  {
   "cell_type": "code",
   "execution_count": 63,
   "metadata": {},
   "outputs": [],
   "source": [
    "# Hoeffding Tree with reservoir sampling\n",
    "import random\n",
    "# 1.accumulate an array on N samples from the stream\n",
    "# 2.choose k elements with reservoir sampling\n",
    "# 3.train the model with these k elements\n",
    "# 4.empty the reservoir\n",
    "\n",
    "# we apply test then train method \n",
    "# i.e we dont split to train and test set\n",
    "# we use every data sample to test the model and then to train it\n",
    "# calculate the prequential error\n",
    "\n",
    "#initialization of variables\n",
    "N=100 # the number of data points  for reservoir sampling\n",
    "k=10  # the number of elements in the reservoir\n",
    "data_tosample=[]\n",
    "reservoir =[]\n",
    "numberCorrectPredictions=0\n",
    "numberTrainingSamplesTotal =0\n",
    "result_scores=[]\n",
    "\n",
    "#initialization of the model\n",
    "ht = HoeffdingTreeClassifier()\n",
    "\n",
    "for i in range(len(data)):\n",
    "    if (i % N >0):\n",
    "        # accumulate N elements in data_tosample array\n",
    "        data_tosample.append(data[i])\n",
    "    else:\n",
    "        # take k ramdom samples from N\n",
    "        reservoir = reservoir_sampling(data_tosample, k)\n",
    "        \n",
    "        # train the Hoeffding tree with these random samples      \n",
    "        for r in reservoir:\n",
    "            X=r[:-1]             # take the feature columns\n",
    "            class_label = r[-1]  # take the label column\n",
    "            \n",
    "            # X is a numpy array with shape (n_samples, n_features)\n",
    "            X=np.array([X])\n",
    "            \n",
    "            #use the same sample to test first then to train\n",
    "            y_predict = ht.predict(X)\n",
    "\n",
    "            #train the Hoeffding Tree with the sample     \n",
    "            ht=ht.partial_fit(X = X,y=np.array([class_label]))\n",
    "            numberTrainingSamplesTotal +=1\n",
    "                 \n",
    "            # calculate the current accuracy\n",
    "            if (y_predict[0] == class_label):\n",
    "                numberCorrectPredictions+=1\n",
    "            current_score = numberCorrectPredictions/ numberTrainingSamplesTotal\n",
    "            result_scores.append(current_score)\n",
    "        \n",
    "        # clear the reservoir after training\n",
    "        reservoir=[]\n",
    "        data_tosample=[]"
   ]
  },
  {
   "cell_type": "code",
   "execution_count": 64,
   "metadata": {},
   "outputs": [
    {
     "data": {
      "text/plain": [
       "Text(0, 0.5, 'Accuracy')"
      ]
     },
     "execution_count": 64,
     "metadata": {},
     "output_type": "execute_result"
    },
    {
     "data": {
      "image/png": "[encoded data removed]",
      "text/plain": [
       "<Figure size 720x360 with 1 Axes>"
      ]
     },
     "metadata": {
      "needs_background": "light"
     },
     "output_type": "display_data"
    }
   ],
   "source": [
    "plt.figure(figsize=(10,5))\n",
    "plt.plot(result_scores, label=\"Incremental Hoeffding Tree\")\n",
    "plt.legend()\n",
    "plt.xlabel(\"Number Training Samples\")\n",
    "plt.ylabel(\"Accuracy\")"
   ]
  },
  {
   "cell_type": "code",
   "execution_count": 62,
   "metadata": {},
   "outputs": [],
   "source": [
    "# Obtain the F-score\n",
    "import random\n",
    "# 1.accumulate an array on N samples from the stream\n",
    "# 2.choose k elements with reservoir sampling\n",
    "# 3.train the model with these k elements\n",
    "# 4.empty the reservoir\n",
    "\n",
    "# we apply test then train method \n",
    "# i.e we dont split to train and test set\n",
    "# we use every data sample to test the model and then to train it\n",
    "# calculate the prequential error\n",
    "\n",
    "#initialization of variables\n",
    "N=100 # the number of data points  for reservoir sampling\n",
    "k=10  # the number of elements in the reservoir\n",
    "data_tosample=[]\n",
    "reservoir =[]\n",
    "numberCorrectPredictions=0\n",
    "numberTrainingSamplesTotal =0\n",
    "numberTP=0    #true positives\n",
    "numberFP=0    #false positives\n",
    "numberFN=0    #false negatives\n",
    "result_scores=[]\n",
    "result_f_scores=[]\n",
    "\n",
    "#initialization of the model\n",
    "ht = HoeffdingTreeClassifier()\n",
    "\n",
    "for i in range(len(data)):\n",
    "    if (i % N >0):\n",
    "        # accumulate N elements in data_tosample array\n",
    "        data_tosample.append(data[i])\n",
    "    else:\n",
    "        # take k ramdom samples from N\n",
    "        reservoir = reservoir_sampling(data_tosample, k)\n",
    "        \n",
    "        # train the Hoeffding tree with these random samples      \n",
    "        for r in reservoir:\n",
    "            X=r[:-1]             # take the feature columns\n",
    "            class_label = r[-1]  # take the label column\n",
    "            \n",
    "            # X is a numpy array with shape (n_samples, n_features)\n",
    "            X=np.array([X])\n",
    "            \n",
    "            #use the same sample to test first then to train\n",
    "            y_predict = ht.predict(X)\n",
    "\n",
    "            #train the Hoeffding Tree with the sample     \n",
    "            ht=ht.partial_fit(X = X,y=np.array([class_label]))\n",
    "            numberTrainingSamplesTotal +=1\n",
    "                 \n",
    "            # calculate the current accuracy\n",
    "            if (y_predict[0] == class_label):\n",
    "                numberCorrectPredictions+=1\n",
    "            if (y_predict[0]==1 and class_label==1):\n",
    "                numberTP+=1\n",
    "            if (y_predict[0]==1 and class_label==0):\n",
    "                numberFP+=1\n",
    "            if (y_predict[0]==0 and class_label==1):\n",
    "                numberFN+=1\n",
    "            current_score = numberCorrectPredictions/ numberTrainingSamplesTotal\n",
    "            result_scores.append(current_score)\n",
    "            \n",
    "            if (((numberTP + numberFP)==0) or ((numberTP + numberFN)==0)):\n",
    "                current_f_score=0\n",
    "            else:\n",
    "                current_f_score = numberTP/(numberTP + 0.5*(numberFP+numberFN))\n",
    "\n",
    "            result_f_scores.append(current_f_score)\n",
    "        \n",
    "        # clear the reservoir after training\n",
    "        reservoir=[]\n",
    "        data_tosample=[]"
   ]
  },
  {
   "cell_type": "code",
   "execution_count": 63,
   "metadata": {},
   "outputs": [
    {
     "data": {
      "text/plain": [
       "Text(0.5, 0, 'Number Training Samples')"
      ]
     },
     "execution_count": 63,
     "metadata": {},
     "output_type": "execute_result"
    },
    {
     "data": {
      "image/png": "[encoded data removed]",
      "text/plain": [
       "<Figure size 720x360 with 1 Axes>"
      ]
     },
     "metadata": {
      "needs_background": "light"
     },
     "output_type": "display_data"
    }
   ],
   "source": [
    "plt.figure(figsize=(10,5))\n",
    "plt.plot(result_f_scores, label=\"F-Score\")\n",
    "plt.plot(result_scores, label=\"Accuracy\")\n",
    "plt.legend()\n",
    "plt.xlabel(\"Number Training Samples\")"
   ]
  },
  {
   "cell_type": "code",
   "execution_count": 64,
   "metadata": {},
   "outputs": [],
   "source": [
    "# changing parameters\n",
    "import random\n",
    "# 1.accumulate an array on N samples from the stream\n",
    "# 2.choose k elements with reservoir sampling\n",
    "# 3.train the model with these k elements\n",
    "# 4.empty the reservoir\n",
    "\n",
    "# we apply test then train method \n",
    "# i.e we dont split to train and test set\n",
    "# we use every data sample to test the model and then to train it\n",
    "# calculate the prequential error\n",
    "\n",
    "#initialization of variables\n",
    "N=20 # the number of data points  for reservoir sampling\n",
    "k=10  # the number of elements in the reservoir\n",
    "data_tosample=[]\n",
    "reservoir =[]\n",
    "numberCorrectPredictions=0\n",
    "numberTrainingSamplesTotal =0\n",
    "numberTP=0    #true positives\n",
    "numberFP=0    #false positives\n",
    "numberFN=0    #false negatives\n",
    "result_scores=[]\n",
    "result_f_scores=[]\n",
    "\n",
    "#initialization of the model\n",
    "ht = HoeffdingTreeClassifier()\n",
    "\n",
    "for i in range(len(data)):\n",
    "    if (i % N >0):\n",
    "        # accumulate N elements in data_tosample array\n",
    "        data_tosample.append(data[i])\n",
    "    else:\n",
    "        # take k ramdom samples from N\n",
    "        reservoir = reservoir_sampling(data_tosample, k)\n",
    "        \n",
    "        # train the Hoeffding tree with these random samples      \n",
    "        for r in reservoir:\n",
    "            X=r[:-1]             # take the feature columns\n",
    "            class_label = r[-1]  # take the label column\n",
    "            \n",
    "            # X is a numpy array with shape (n_samples, n_features)\n",
    "            X=np.array([X])\n",
    "            \n",
    "            #use the same sample to test first then to train\n",
    "            y_predict = ht.predict(X)\n",
    "\n",
    "            #train the Hoeffding Tree with the sample     \n",
    "            ht=ht.partial_fit(X = X,y=np.array([class_label]))\n",
    "            numberTrainingSamplesTotal +=1\n",
    "                 \n",
    "            # calculate the current accuracy\n",
    "            if (y_predict[0] == class_label):\n",
    "                numberCorrectPredictions+=1\n",
    "            if (y_predict[0]==1 and class_label==1):\n",
    "                numberTP+=1\n",
    "            if (y_predict[0]==1 and class_label==0):\n",
    "                numberFP+=1\n",
    "            if (y_predict[0]==0 and class_label==1):\n",
    "                numberFN+=1\n",
    "            current_score = numberCorrectPredictions/ numberTrainingSamplesTotal\n",
    "            result_scores.append(current_score)\n",
    "            \n",
    "            if (((numberTP + numberFP)==0) or ((numberTP + numberFN)==0)):\n",
    "                current_f_score=0\n",
    "            else:\n",
    "                current_f_score = numberTP/(numberTP + 0.5*(numberFP+numberFN))\n",
    "\n",
    "            result_f_scores.append(current_f_score)\n",
    "        \n",
    "        # clear the reservoir after training\n",
    "        reservoir=[]\n",
    "        data_tosample=[]"
   ]
  },
  {
   "cell_type": "code",
   "execution_count": 65,
   "metadata": {},
   "outputs": [
    {
     "data": {
      "text/plain": [
       "Text(0.5, 0, 'Number Training Samples')"
      ]
     },
     "execution_count": 65,
     "metadata": {},
     "output_type": "execute_result"
    },
    {
     "data": {
      "image/png": "[encoded data removed]",
      "text/plain": [
       "<Figure size 720x360 with 1 Axes>"
      ]
     },
     "metadata": {
      "needs_background": "light"
     },
     "output_type": "display_data"
    }
   ],
   "source": [
    "plt.figure(figsize=(10,5))\n",
    "plt.plot(result_f_scores, label=\"F-Score\")\n",
    "plt.plot(result_scores, label=\"Accuracy\")\n",
    "plt.legend()\n",
    "plt.xlabel(\"Number Training Samples\")"
   ]
  },
  {
   "cell_type": "code",
   "execution_count": 66,
   "metadata": {},
   "outputs": [],
   "source": [
    "# undersample the majority class only\n",
    "# use every data point of the minority class\n",
    "import random\n",
    "# 1. Accumulate N data points from the majority class in the reservoir\n",
    "# 2. countMinority =0 -> start training with the minority class\n",
    "# 3. When the ith>=N+1 data point arrives \n",
    "# verify if it is from the minority class\n",
    "# 4. If Yes, and i< 2*N => use it for training\n",
    "# 5. If No, use reservoir sampling\n",
    "# 6. Did we train the model with N points from the minority class\n",
    "# 7. If Yes then use the reservoir \n",
    "# to train the model with N samples from the majority class as well\n",
    "# 8. empty the reservoir -> go to step1\n",
    "\n",
    "# we apply test then train method \n",
    "# i.e we dont split to train and test set\n",
    "# we use every data sample to test the model and then to train it\n",
    "# calculate the prequential error\n",
    "\n",
    "#initialization of variables\n",
    "N=5 # the number of data points in the reservoir\n",
    "reservoir =[]\n",
    "numberCorrectPredictions=0\n",
    "numberTrainingSamplesTotal =0\n",
    "numberTP=0    #true positives\n",
    "numberFP=0    #false positives\n",
    "numberFN=0    #false negatives\n",
    "result_scores=[]\n",
    "result_f_scores=[]\n",
    "majorityClass =0\n",
    "minorityClass =1\n",
    "countMajority=0\n",
    "countMinority=0\n",
    "\n",
    "#initialization of the model\n",
    "ht = HoeffdingTreeClassifier()\n",
    "\n",
    "for i in range(len(data)):\n",
    "    class_label = data[i][-1]  # take the label \n",
    "\n",
    "    if (class_label==majorityClass):\n",
    "        countMajority+=1\n",
    "        if (len(reservoir) <= N):\n",
    "            # accumulate N elements in the reservoir\n",
    "            reservoir.append(data[i])\n",
    "        else:\n",
    "            probability=N/countMajority\n",
    "            if random.random()<probability:\n",
    "                m=random.randint(0, N-1)\n",
    "                reservoir[m]=data[i]          \n",
    "    else:\n",
    "        if (len(reservoir) > N) : # we need to have N data points in the reservoir before proceeding\n",
    "            # test and train the Hoeffding tree with the current data point\n",
    "            countMinority+=1\n",
    "            \n",
    "            # take the current data point\n",
    "            X=data[i][:-1]\n",
    "            # X is a numpy array with shape (n_samples, n_features)\n",
    "            X=np.array([X])\n",
    "            \n",
    "            #use the same sample to test first then to train\n",
    "            y_predict = ht.predict(X)\n",
    "\n",
    "            #train the Hoeffding Tree with the sample     \n",
    "            ht=ht.partial_fit(X = X,y=np.array([class_label]))\n",
    "            numberTrainingSamplesTotal +=1\n",
    "#             print(\"training with minority***************\")\n",
    "#             print(i)\n",
    "                 \n",
    "            # calculate the current accuracy\n",
    "            if (y_predict[0] == class_label):\n",
    "                numberCorrectPredictions+=1\n",
    "            if (y_predict[0]==1 and class_label==1):\n",
    "                numberTP+=1\n",
    "            if (y_predict[0]==1 and class_label==0):\n",
    "                numberFP+=1\n",
    "            if (y_predict[0]==0 and class_label==1):\n",
    "                numberFN+=1\n",
    "            current_score = numberCorrectPredictions/ numberTrainingSamplesTotal\n",
    "            result_scores.append(current_score)\n",
    "#             print(\"correct so far / total training****************\")\n",
    "#             print(numberCorrectPredictions)\n",
    "#             print(numberTrainingSamplesTotal)\n",
    "#             print(current_score)\n",
    "            \n",
    "            if (((numberTP + numberFP)==0) or ((numberTP + numberFN)==0)):\n",
    "                current_f_score=0\n",
    "            else:\n",
    "                current_f_score = numberTP/(numberTP + 0.5*(numberFP+numberFN))\n",
    "\n",
    "            result_f_scores.append(current_f_score)\n",
    "        \n",
    "        # did we train with N points from the minority class?\n",
    "        # if Yes we need to train with N points from the reservoir\n",
    "        # and we will empty the reservoir \n",
    "        if (countMinority ==N):\n",
    "            \n",
    "            # train the Hoeffding tree with the samples from the reservoir (N from majority class)      \n",
    "            for r in reservoir:\n",
    "                X=r[:-1]             # take the feature columns\n",
    "                class_label = r[-1]  # take the label column\n",
    "                \n",
    "                # X is a numpy array with shape (n_samples, n_features)\n",
    "                X=np.array([X])\n",
    "                \n",
    "                #use the same sample to test first then to train\n",
    "                y_predict = ht.predict(X)\n",
    "\n",
    "                #train the Hoeffding Tree with the sample     \n",
    "                ht=ht.partial_fit(X = X,y=np.array([class_label]))\n",
    "                numberTrainingSamplesTotal +=1\n",
    "#                 print(\"majority----------------------\")\n",
    "#                 print(numberTrainingSamplesTotal)\n",
    "\n",
    "                # calculate the current accuracy\n",
    "                if (y_predict[0] == class_label):\n",
    "                    numberCorrectPredictions+=1\n",
    "                if (y_predict[0]==1 and class_label==1):\n",
    "                    numberTP+=1\n",
    "                if (y_predict[0]==1 and class_label==0):\n",
    "                    numberFP+=1\n",
    "                if (y_predict[0]==0 and class_label==1):\n",
    "                    numberFN+=1\n",
    "                current_score = numberCorrectPredictions/ numberTrainingSamplesTotal\n",
    "                result_scores.append(current_score)\n",
    "#                 print(\"correct so far / total training-----------------\")\n",
    "#                 print(numberCorrectPredictions)\n",
    "#                 print(numberTrainingSamplesTotal)\n",
    "#                 print(current_score)\n",
    "            \n",
    "                if (((numberTP + numberFP)==0) or ((numberTP + numberFN)==0)):\n",
    "                    current_f_score=0\n",
    "                else:\n",
    "                    current_f_score = numberTP/(numberTP + 0.5*(numberFP+numberFN))\n",
    "\n",
    "                result_f_scores.append(current_f_score)\n",
    "                \n",
    "            # clear the reservoir after training\n",
    "            reservoir=[]\n",
    "            countMajority=0\n",
    "            countMinority =0 \n"
   ]
  },
  {
   "cell_type": "code",
   "execution_count": 67,
   "metadata": {},
   "outputs": [
    {
     "data": {
      "text/plain": [
       "Text(0.5, 0, 'Number Training Samples')"
      ]
     },
     "execution_count": 67,
     "metadata": {},
     "output_type": "execute_result"
    },
    {
     "data": {
      "image/png": "[encoded data removed]",
      "text/plain": [
       "<Figure size 720x360 with 1 Axes>"
      ]
     },
     "metadata": {
      "needs_background": "light"
     },
     "output_type": "display_data"
    }
   ],
   "source": [
    "plt.figure(figsize=(10,5))\n",
    "plt.plot(result_f_scores, label=\"F-Score\")\n",
    "plt.plot(result_scores, label=\"Accuracy\")\n",
    "plt.legend()\n",
    "plt.xlabel(\"Number Training Samples\")"
   ]
  },
  {
   "cell_type": "code",
   "execution_count": 68,
   "metadata": {},
   "outputs": [],
   "source": [
    "# undersample the majority class only\n",
    "# use every data point of the minority class\n",
    "import random\n",
    "# 1. Accumulate N data points from the majority class in the reservoir\n",
    "# 2. countMinority =0 -> start training with the minority class\n",
    "# 3. When the ith>=N+1 data point arrives \n",
    "# verify if it is from the minority class\n",
    "# 4. If Yes, and i< 2*N => use it for training\n",
    "# 5. If No, use reservoir sampling\n",
    "# 6. Did we train the model with N points from the minority class\n",
    "# 7. If Yes then use the reservoir \n",
    "# to train the model with N samples from the majority class as well\n",
    "# 8. empty the reservoir -> go to step1\n",
    "\n",
    "# we apply test then train method \n",
    "# i.e we dont split to train and test set\n",
    "# we use every data sample to test the model and then to train it\n",
    "# calculate the prequential error\n",
    "\n",
    "# data preparation\n",
    "df=pd.read_csv(\"iot_telemetry_data.csv\")\n",
    "df[\"light\"]=df[\"light\"].astype(int)\n",
    "df[\"motion\"]=df[\"motion\"].astype(int)\n",
    "select_cols = ['co', 'humidity', 'lpg', 'motion','smoke','temp', 'light']\n",
    "data = df[select_cols].to_numpy()\n",
    "\n",
    "#initialization of variables\n",
    "N=10 # the number of data points in the reservoir\n",
    "reservoir =[]\n",
    "numberCorrectPredictions=0\n",
    "numberTrainingSamplesTotal =0\n",
    "numberTP=0    #true positives\n",
    "numberFP=0    #false positives\n",
    "numberFN=0    #false negatives\n",
    "result_scores=[]\n",
    "result_f_scores=[]\n",
    "majorityClass =0\n",
    "minorityClass =1\n",
    "countMajority=0\n",
    "countMinority=0\n",
    "\n",
    "#initialization of the model\n",
    "ht = HoeffdingTreeClassifier()\n",
    "\n",
    "for i in range(len(data)):\n",
    "    class_label = data[i][-1]  # take the label \n",
    "\n",
    "    if (class_label==majorityClass):\n",
    "        countMajority+=1\n",
    "        if (len(reservoir) <= N-1):\n",
    "            # accumulate N elements in the reservoir\n",
    "            reservoir.append(data[i])\n",
    "        else:\n",
    "            probability=N/countMajority\n",
    "            if random.random()<probability:\n",
    "                m=random.randint(0, N-1)\n",
    "                reservoir[m]=data[i]          \n",
    "    else:\n",
    "        if (len(reservoir) == N) : # we need to have N data points in the reservoir before proceeding\n",
    "            # test and train the Hoeffding tree with the current data point\n",
    "            countMinority+=1\n",
    "            \n",
    "            # take the current data point\n",
    "            X=data[i][:-1]\n",
    "            # X is a numpy array with shape (n_samples, n_features)\n",
    "            X=np.array([X])\n",
    "            \n",
    "            #use the same sample to test first then to train\n",
    "            y_predict = ht.predict(X)\n",
    "\n",
    "            #train the Hoeffding Tree with the sample     \n",
    "            ht=ht.partial_fit(X = X,y=np.array([class_label]))\n",
    "            numberTrainingSamplesTotal +=1\n",
    "#             print(\"training with minority***************\")\n",
    "#             print(i)\n",
    "                 \n",
    "            # calculate the current accuracy\n",
    "            if (y_predict[0] == class_label):\n",
    "                numberCorrectPredictions+=1\n",
    "            if (y_predict[0]==1 and class_label==1):\n",
    "                numberTP+=1\n",
    "            if (y_predict[0]==1 and class_label==0):\n",
    "                numberFP+=1\n",
    "            if (y_predict[0]==0 and class_label==1):\n",
    "                numberFN+=1\n",
    "            current_score = numberCorrectPredictions/ numberTrainingSamplesTotal\n",
    "            result_scores.append(current_score)\n",
    "#             print(\"correct so far / total training****************\")\n",
    "#             print(numberCorrectPredictions)\n",
    "#             print(numberTrainingSamplesTotal)\n",
    "#             print(current_score)\n",
    "            \n",
    "            if (((numberTP + numberFP)==0) or ((numberTP + numberFN)==0)):\n",
    "                current_f_score=0\n",
    "            else:\n",
    "                current_f_score = numberTP/(numberTP + 0.5*(numberFP+numberFN))\n",
    "            result_f_scores.append(current_f_score)    \n",
    "                \n",
    "        \n",
    "        # did we train with N points from the minority class?\n",
    "        # if Yes we need to train with N points from the reservoir\n",
    "        # and we will empty the reservoir \n",
    "        if (countMinority ==N):\n",
    "            \n",
    "            # train the Hoeffding tree with the samples from the reservoir (N from majority class)      \n",
    "            for r in reservoir:\n",
    "                X=r[:-1]             # take the feature columns\n",
    "                class_label = r[-1]  # take the label column\n",
    "                \n",
    "                # X is a numpy array with shape (n_samples, n_features)\n",
    "                X=np.array([X])\n",
    "                \n",
    "                #use the same sample to test first then to train\n",
    "                y_predict = ht.predict(X)\n",
    "\n",
    "                #train the Hoeffding Tree with the sample     \n",
    "                ht=ht.partial_fit(X = X,y=np.array([class_label]))\n",
    "                numberTrainingSamplesTotal +=1\n",
    "#                 print(\"majority----------------------\")\n",
    "#                 print(numberTrainingSamplesTotal)\n",
    "\n",
    "                # calculate the current accuracy\n",
    "                if (y_predict[0] == class_label):\n",
    "                    numberCorrectPredictions+=1\n",
    "                if (y_predict[0]==1 and class_label==1):\n",
    "                    numberTP+=1\n",
    "                if (y_predict[0]==1 and class_label==0):\n",
    "                    numberFP+=1\n",
    "                if (y_predict[0]==0 and class_label==1):\n",
    "                    numberFN+=1\n",
    "                current_score = numberCorrectPredictions/ numberTrainingSamplesTotal\n",
    "                result_scores.append(current_score)\n",
    "#                 print(\"correct so far / total training-----------------\")\n",
    "#                 print(numberCorrectPredictions)\n",
    "#                 print(numberTrainingSamplesTotal)\n",
    "#                 print(current_score)\n",
    "            \n",
    "                if (((numberTP + numberFP)==0) or ((numberTP + numberFN)==0)):\n",
    "                    current_f_score=0\n",
    "                else:\n",
    "                    current_f_score = numberTP/(numberTP + 0.5*(numberFP+numberFN))     \n",
    "                result_f_scores.append(current_f_score)\n",
    "                \n",
    "            # clear the reservoir after training\n",
    "            reservoir=[]\n",
    "            countMajority=0\n",
    "            countMinority =0 \n",
    "# Result\n",
    "# correct so far / total training****************\n",
    "# 0\n",
    "# 1\n",
    "# 0.0\n",
    "# correct so far / total training****************\n",
    "# 0\n",
    "# 2\n",
    "# 0.0\n",
    "# correct so far / total training****************\n",
    "# 1\n",
    "# 3\n",
    "# 0.3333333333333333\n",
    "# correct so far / total training****************\n",
    "# 2\n",
    "# 4\n",
    "# 0.5\n",
    "# correct so far / total training****************\n",
    "# 3\n",
    "# 5\n",
    "# 0.6\n",
    "# correct so far / total training-----------------\n",
    "# 4\n",
    "# 6\n",
    "# 0.6666666666666666\n",
    "# correct so far / total training-----------------\n",
    "# 5\n",
    "# 7\n",
    "# 0.7142857142857143\n",
    "# correct so far / total training-----------------\n",
    "# 6\n",
    "# 8\n",
    "# 0.75\n",
    "# correct so far / total training-----------------\n",
    "# 7\n",
    "# 9\n",
    "# 0.7777777777777778\n",
    "# correct so far / total training-----------------\n",
    "# 8\n",
    "# 10\n",
    "# 0.8\n",
    "# correct so far / total training****************\n",
    "# 8\n",
    "# 11\n",
    "# 0.7272727272727273\n",
    "# correct so far / total training****************\n",
    "# 9\n",
    "# 12\n",
    "# 0.75\n",
    "# correct so far / total training****************\n",
    "# 10\n",
    "# 13\n",
    "# 0.7692307692307693\n",
    "# correct so far / total training****************\n",
    "# 11\n",
    "# 14\n",
    "# 0.7857142857142857"
   ]
  },
  {
   "cell_type": "code",
   "execution_count": 70,
   "metadata": {},
   "outputs": [
    {
     "data": {
      "text/plain": [
       "Text(0.5, 0, 'Number Training Samples')"
      ]
     },
     "execution_count": 70,
     "metadata": {},
     "output_type": "execute_result"
    },
    {
     "data": {
      "image/png": "[encoded data removed]",
      "text/plain": [
       "<Figure size 720x360 with 1 Axes>"
      ]
     },
     "metadata": {
      "needs_background": "light"
     },
     "output_type": "display_data"
    }
   ],
   "source": [
    "plt.figure(figsize=(10,5))\n",
    "plt.plot(result_f_scores[:100], label=\"F-Score\")\n",
    "plt.plot(result_scores[:100], label=\"Accuracy\")\n",
    "plt.legend()\n",
    "plt.xlabel(\"Number Training Samples\")"
   ]
  }
 ],
 "metadata": {
  "kernelspec": {
   "display_name": "Python 3",
   "language": "python",
   "name": "python3"
  },
  "language_info": {
   "codemirror_mode": {
    "name": "ipython",
    "version": 3
   },
   "file_extension": ".py",
   "mimetype": "text/x-python",
   "name": "python",
   "nbconvert_exporter": "python",
   "pygments_lexer": "ipython3",
   "version": "3.7.6"
  }
 },
 "nbformat": 4,
 "nbformat_minor": 4
}
