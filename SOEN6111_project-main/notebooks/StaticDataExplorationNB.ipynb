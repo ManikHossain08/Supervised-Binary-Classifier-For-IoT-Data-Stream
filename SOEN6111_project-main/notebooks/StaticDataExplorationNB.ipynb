{
 "cells": [
  {
   "cell_type": "code",
   "execution_count": 196,
   "metadata": {},
   "outputs": [],
   "source": [
    "import numpy as np\n",
    "import pandas as pd"
   ]
  },
  {
   "cell_type": "code",
   "execution_count": 197,
   "metadata": {},
   "outputs": [],
   "source": [
    "from sklearn.metrics import confusion_matrix\n",
    "from sklearn.metrics import classification_report"
   ]
  },
  {
   "cell_type": "code",
   "execution_count": 198,
   "metadata": {},
   "outputs": [],
   "source": [
    "from sklearn.model_selection import train_test_split #to split to test and train set\n",
    "from sklearn import metrics #Import scikit-learn metrics module for accuracy calculation\n",
    "from sklearn.metrics import f1_score, accuracy_score, precision_score, recall_score"
   ]
  },
  {
   "cell_type": "code",
   "execution_count": 199,
   "metadata": {},
   "outputs": [],
   "source": [
    "import matplotlib.pyplot as plt\n",
    "from pandas.plotting import scatter_matrix\n",
    "import seaborn as sns"
   ]
  },
  {
   "cell_type": "code",
   "execution_count": 200,
   "metadata": {},
   "outputs": [],
   "source": [
    "from sklearn.naive_bayes import GaussianNB"
   ]
  },
  {
   "cell_type": "code",
   "execution_count": 201,
   "metadata": {},
   "outputs": [],
   "source": [
    "df=pd.read_csv(\"/Users/manikhossain/Downloads/SOEN-6111_BigData_Materials/SOEN6111_project/dataset/iot_telemetry_data.csv\")\n",
    "# /Users/manikhossain/Downloads/SOEN-6111_BigData_Materials/SOEN6111_project/dataset/\n",
    "#!pwd"
   ]
  },
  {
   "cell_type": "code",
   "execution_count": 202,
   "metadata": {},
   "outputs": [
    {
     "name": "stdout",
     "output_type": "stream",
     "text": [
      "<class 'pandas.core.frame.DataFrame'>\n",
      "RangeIndex: 405184 entries, 0 to 405183\n",
      "Data columns (total 9 columns):\n",
      " #   Column    Non-Null Count   Dtype  \n",
      "---  ------    --------------   -----  \n",
      " 0   ts        405184 non-null  float64\n",
      " 1   device    405184 non-null  object \n",
      " 2   co        405184 non-null  float64\n",
      " 3   humidity  405184 non-null  float64\n",
      " 4   light     405184 non-null  bool   \n",
      " 5   lpg       405184 non-null  float64\n",
      " 6   motion    405184 non-null  bool   \n",
      " 7   smoke     405184 non-null  float64\n",
      " 8   temp      405184 non-null  float64\n",
      "dtypes: bool(2), float64(6), object(1)\n",
      "memory usage: 22.4+ MB\n"
     ]
    }
   ],
   "source": [
    "#explore the data frame\n",
    "df.info()"
   ]
  },
  {
   "cell_type": "code",
   "execution_count": 203,
   "metadata": {},
   "outputs": [
    {
     "data": {
      "text/plain": [
       "Index(['ts', 'device', 'co', 'humidity', 'light', 'lpg', 'motion', 'smoke',\n",
       "       'temp'],\n",
       "      dtype='object')"
      ]
     },
     "execution_count": 203,
     "metadata": {},
     "output_type": "execute_result"
    }
   ],
   "source": [
    "df.columns"
   ]
  },
  {
   "cell_type": "code",
   "execution_count": 204,
   "metadata": {},
   "outputs": [
    {
     "data": {
      "text/html": [
       "<div>\n",
       "<style scoped>\n",
       "    .dataframe tbody tr th:only-of-type {\n",
       "        vertical-align: middle;\n",
       "    }\n",
       "\n",
       "    .dataframe tbody tr th {\n",
       "        vertical-align: top;\n",
       "    }\n",
       "\n",
       "    .dataframe thead th {\n",
       "        text-align: right;\n",
       "    }\n",
       "</style>\n",
       "<table border=\"1\" class=\"dataframe\">\n",
       "  <thead>\n",
       "    <tr style=\"text-align: right;\">\n",
       "      <th></th>\n",
       "      <th>ts</th>\n",
       "      <th>device</th>\n",
       "      <th>co</th>\n",
       "      <th>humidity</th>\n",
       "      <th>light</th>\n",
       "      <th>lpg</th>\n",
       "      <th>motion</th>\n",
       "      <th>smoke</th>\n",
       "      <th>temp</th>\n",
       "    </tr>\n",
       "  </thead>\n",
       "  <tbody>\n",
       "    <tr>\n",
       "      <th>17986</th>\n",
       "      <td>1.594543e+09</td>\n",
       "      <td>1c:bf:ce:15:ec:4d</td>\n",
       "      <td>0.004078</td>\n",
       "      <td>74.199997</td>\n",
       "      <td>True</td>\n",
       "      <td>0.006644</td>\n",
       "      <td>False</td>\n",
       "      <td>0.017556</td>\n",
       "      <td>24.700001</td>\n",
       "    </tr>\n",
       "    <tr>\n",
       "      <th>17987</th>\n",
       "      <td>1.594543e+09</td>\n",
       "      <td>1c:bf:ce:15:ec:4d</td>\n",
       "      <td>0.004078</td>\n",
       "      <td>74.199997</td>\n",
       "      <td>True</td>\n",
       "      <td>0.006644</td>\n",
       "      <td>False</td>\n",
       "      <td>0.017556</td>\n",
       "      <td>24.700001</td>\n",
       "    </tr>\n",
       "    <tr>\n",
       "      <th>82094</th>\n",
       "      <td>1.594653e+09</td>\n",
       "      <td>1c:bf:ce:15:ec:4d</td>\n",
       "      <td>0.004310</td>\n",
       "      <td>61.700001</td>\n",
       "      <td>True</td>\n",
       "      <td>0.006916</td>\n",
       "      <td>False</td>\n",
       "      <td>0.018325</td>\n",
       "      <td>23.700001</td>\n",
       "    </tr>\n",
       "    <tr>\n",
       "      <th>82095</th>\n",
       "      <td>1.594653e+09</td>\n",
       "      <td>1c:bf:ce:15:ec:4d</td>\n",
       "      <td>0.004310</td>\n",
       "      <td>61.700001</td>\n",
       "      <td>True</td>\n",
       "      <td>0.006916</td>\n",
       "      <td>False</td>\n",
       "      <td>0.018325</td>\n",
       "      <td>23.700001</td>\n",
       "    </tr>\n",
       "    <tr>\n",
       "      <th>147646</th>\n",
       "      <td>1.594765e+09</td>\n",
       "      <td>b8:27:eb:bf:9d:51</td>\n",
       "      <td>0.005336</td>\n",
       "      <td>48.600000</td>\n",
       "      <td>False</td>\n",
       "      <td>0.008071</td>\n",
       "      <td>False</td>\n",
       "      <td>0.021610</td>\n",
       "      <td>22.600000</td>\n",
       "    </tr>\n",
       "    <tr>\n",
       "      <th>147647</th>\n",
       "      <td>1.594765e+09</td>\n",
       "      <td>b8:27:eb:bf:9d:51</td>\n",
       "      <td>0.005336</td>\n",
       "      <td>48.600000</td>\n",
       "      <td>False</td>\n",
       "      <td>0.008071</td>\n",
       "      <td>False</td>\n",
       "      <td>0.021610</td>\n",
       "      <td>22.600000</td>\n",
       "    </tr>\n",
       "    <tr>\n",
       "      <th>155596</th>\n",
       "      <td>1.594778e+09</td>\n",
       "      <td>b8:27:eb:bf:9d:51</td>\n",
       "      <td>0.005370</td>\n",
       "      <td>46.400000</td>\n",
       "      <td>False</td>\n",
       "      <td>0.008108</td>\n",
       "      <td>False</td>\n",
       "      <td>0.021716</td>\n",
       "      <td>22.500000</td>\n",
       "    </tr>\n",
       "    <tr>\n",
       "      <th>155597</th>\n",
       "      <td>1.594778e+09</td>\n",
       "      <td>b8:27:eb:bf:9d:51</td>\n",
       "      <td>0.005370</td>\n",
       "      <td>46.400000</td>\n",
       "      <td>False</td>\n",
       "      <td>0.008108</td>\n",
       "      <td>False</td>\n",
       "      <td>0.021716</td>\n",
       "      <td>22.500000</td>\n",
       "    </tr>\n",
       "    <tr>\n",
       "      <th>169439</th>\n",
       "      <td>1.594802e+09</td>\n",
       "      <td>1c:bf:ce:15:ec:4d</td>\n",
       "      <td>0.004009</td>\n",
       "      <td>54.900002</td>\n",
       "      <td>True</td>\n",
       "      <td>0.006563</td>\n",
       "      <td>False</td>\n",
       "      <td>0.017327</td>\n",
       "      <td>24.400000</td>\n",
       "    </tr>\n",
       "    <tr>\n",
       "      <th>169440</th>\n",
       "      <td>1.594802e+09</td>\n",
       "      <td>1c:bf:ce:15:ec:4d</td>\n",
       "      <td>0.004009</td>\n",
       "      <td>54.900002</td>\n",
       "      <td>True</td>\n",
       "      <td>0.006563</td>\n",
       "      <td>False</td>\n",
       "      <td>0.017327</td>\n",
       "      <td>24.400000</td>\n",
       "    </tr>\n",
       "    <tr>\n",
       "      <th>192425</th>\n",
       "      <td>1.594841e+09</td>\n",
       "      <td>b8:27:eb:bf:9d:51</td>\n",
       "      <td>0.005114</td>\n",
       "      <td>50.800000</td>\n",
       "      <td>False</td>\n",
       "      <td>0.007826</td>\n",
       "      <td>False</td>\n",
       "      <td>0.020912</td>\n",
       "      <td>22.700000</td>\n",
       "    </tr>\n",
       "    <tr>\n",
       "      <th>192426</th>\n",
       "      <td>1.594841e+09</td>\n",
       "      <td>b8:27:eb:bf:9d:51</td>\n",
       "      <td>0.005114</td>\n",
       "      <td>50.800000</td>\n",
       "      <td>False</td>\n",
       "      <td>0.007826</td>\n",
       "      <td>False</td>\n",
       "      <td>0.020912</td>\n",
       "      <td>22.700000</td>\n",
       "    </tr>\n",
       "    <tr>\n",
       "      <th>257856</th>\n",
       "      <td>1.594952e+09</td>\n",
       "      <td>1c:bf:ce:15:ec:4d</td>\n",
       "      <td>0.003886</td>\n",
       "      <td>82.500000</td>\n",
       "      <td>True</td>\n",
       "      <td>0.006416</td>\n",
       "      <td>False</td>\n",
       "      <td>0.016913</td>\n",
       "      <td>24.000000</td>\n",
       "    </tr>\n",
       "    <tr>\n",
       "      <th>257857</th>\n",
       "      <td>1.594952e+09</td>\n",
       "      <td>1c:bf:ce:15:ec:4d</td>\n",
       "      <td>0.003886</td>\n",
       "      <td>82.500000</td>\n",
       "      <td>True</td>\n",
       "      <td>0.006416</td>\n",
       "      <td>False</td>\n",
       "      <td>0.016913</td>\n",
       "      <td>24.000000</td>\n",
       "    </tr>\n",
       "    <tr>\n",
       "      <th>297460</th>\n",
       "      <td>1.595020e+09</td>\n",
       "      <td>b8:27:eb:bf:9d:51</td>\n",
       "      <td>0.006076</td>\n",
       "      <td>50.200000</td>\n",
       "      <td>False</td>\n",
       "      <td>0.008866</td>\n",
       "      <td>False</td>\n",
       "      <td>0.023891</td>\n",
       "      <td>22.600000</td>\n",
       "    </tr>\n",
       "    <tr>\n",
       "      <th>297461</th>\n",
       "      <td>1.595020e+09</td>\n",
       "      <td>b8:27:eb:bf:9d:51</td>\n",
       "      <td>0.006076</td>\n",
       "      <td>50.200000</td>\n",
       "      <td>False</td>\n",
       "      <td>0.008866</td>\n",
       "      <td>False</td>\n",
       "      <td>0.023891</td>\n",
       "      <td>22.600000</td>\n",
       "    </tr>\n",
       "    <tr>\n",
       "      <th>305561</th>\n",
       "      <td>1.595033e+09</td>\n",
       "      <td>1c:bf:ce:15:ec:4d</td>\n",
       "      <td>0.004207</td>\n",
       "      <td>60.200001</td>\n",
       "      <td>True</td>\n",
       "      <td>0.006796</td>\n",
       "      <td>False</td>\n",
       "      <td>0.017986</td>\n",
       "      <td>27.900000</td>\n",
       "    </tr>\n",
       "    <tr>\n",
       "      <th>305562</th>\n",
       "      <td>1.595033e+09</td>\n",
       "      <td>1c:bf:ce:15:ec:4d</td>\n",
       "      <td>0.004207</td>\n",
       "      <td>60.200001</td>\n",
       "      <td>True</td>\n",
       "      <td>0.006796</td>\n",
       "      <td>False</td>\n",
       "      <td>0.017986</td>\n",
       "      <td>27.900000</td>\n",
       "    </tr>\n",
       "    <tr>\n",
       "      <th>328879</th>\n",
       "      <td>1.595073e+09</td>\n",
       "      <td>b8:27:eb:bf:9d:51</td>\n",
       "      <td>0.005688</td>\n",
       "      <td>52.600000</td>\n",
       "      <td>False</td>\n",
       "      <td>0.008453</td>\n",
       "      <td>False</td>\n",
       "      <td>0.022704</td>\n",
       "      <td>22.200000</td>\n",
       "    </tr>\n",
       "    <tr>\n",
       "      <th>328880</th>\n",
       "      <td>1.595073e+09</td>\n",
       "      <td>b8:27:eb:bf:9d:51</td>\n",
       "      <td>0.005688</td>\n",
       "      <td>52.600000</td>\n",
       "      <td>False</td>\n",
       "      <td>0.008453</td>\n",
       "      <td>False</td>\n",
       "      <td>0.022704</td>\n",
       "      <td>22.200000</td>\n",
       "    </tr>\n",
       "    <tr>\n",
       "      <th>334897</th>\n",
       "      <td>1.595084e+09</td>\n",
       "      <td>b8:27:eb:bf:9d:51</td>\n",
       "      <td>0.006120</td>\n",
       "      <td>51.900000</td>\n",
       "      <td>False</td>\n",
       "      <td>0.008912</td>\n",
       "      <td>False</td>\n",
       "      <td>0.024024</td>\n",
       "      <td>21.500000</td>\n",
       "    </tr>\n",
       "    <tr>\n",
       "      <th>334898</th>\n",
       "      <td>1.595084e+09</td>\n",
       "      <td>b8:27:eb:bf:9d:51</td>\n",
       "      <td>0.006120</td>\n",
       "      <td>51.900000</td>\n",
       "      <td>False</td>\n",
       "      <td>0.008912</td>\n",
       "      <td>False</td>\n",
       "      <td>0.024024</td>\n",
       "      <td>21.500000</td>\n",
       "    </tr>\n",
       "    <tr>\n",
       "      <th>353906</th>\n",
       "      <td>1.595117e+09</td>\n",
       "      <td>b8:27:eb:bf:9d:51</td>\n",
       "      <td>0.006034</td>\n",
       "      <td>52.100000</td>\n",
       "      <td>False</td>\n",
       "      <td>0.008822</td>\n",
       "      <td>False</td>\n",
       "      <td>0.023765</td>\n",
       "      <td>22.600000</td>\n",
       "    </tr>\n",
       "    <tr>\n",
       "      <th>353907</th>\n",
       "      <td>1.595117e+09</td>\n",
       "      <td>b8:27:eb:bf:9d:51</td>\n",
       "      <td>0.006034</td>\n",
       "      <td>52.100000</td>\n",
       "      <td>False</td>\n",
       "      <td>0.008822</td>\n",
       "      <td>False</td>\n",
       "      <td>0.023765</td>\n",
       "      <td>22.600000</td>\n",
       "    </tr>\n",
       "    <tr>\n",
       "      <th>362071</th>\n",
       "      <td>1.595131e+09</td>\n",
       "      <td>b8:27:eb:bf:9d:51</td>\n",
       "      <td>0.005892</td>\n",
       "      <td>50.800000</td>\n",
       "      <td>False</td>\n",
       "      <td>0.008671</td>\n",
       "      <td>False</td>\n",
       "      <td>0.023330</td>\n",
       "      <td>22.400000</td>\n",
       "    </tr>\n",
       "    <tr>\n",
       "      <th>362072</th>\n",
       "      <td>1.595131e+09</td>\n",
       "      <td>b8:27:eb:bf:9d:51</td>\n",
       "      <td>0.005892</td>\n",
       "      <td>50.800000</td>\n",
       "      <td>False</td>\n",
       "      <td>0.008671</td>\n",
       "      <td>False</td>\n",
       "      <td>0.023330</td>\n",
       "      <td>22.400000</td>\n",
       "    </tr>\n",
       "  </tbody>\n",
       "</table>\n",
       "</div>"
      ],
      "text/plain": [
       "                  ts             device        co   humidity  light       lpg  \\\n",
       "17986   1.594543e+09  1c:bf:ce:15:ec:4d  0.004078  74.199997   True  0.006644   \n",
       "17987   1.594543e+09  1c:bf:ce:15:ec:4d  0.004078  74.199997   True  0.006644   \n",
       "82094   1.594653e+09  1c:bf:ce:15:ec:4d  0.004310  61.700001   True  0.006916   \n",
       "82095   1.594653e+09  1c:bf:ce:15:ec:4d  0.004310  61.700001   True  0.006916   \n",
       "147646  1.594765e+09  b8:27:eb:bf:9d:51  0.005336  48.600000  False  0.008071   \n",
       "147647  1.594765e+09  b8:27:eb:bf:9d:51  0.005336  48.600000  False  0.008071   \n",
       "155596  1.594778e+09  b8:27:eb:bf:9d:51  0.005370  46.400000  False  0.008108   \n",
       "155597  1.594778e+09  b8:27:eb:bf:9d:51  0.005370  46.400000  False  0.008108   \n",
       "169439  1.594802e+09  1c:bf:ce:15:ec:4d  0.004009  54.900002   True  0.006563   \n",
       "169440  1.594802e+09  1c:bf:ce:15:ec:4d  0.004009  54.900002   True  0.006563   \n",
       "192425  1.594841e+09  b8:27:eb:bf:9d:51  0.005114  50.800000  False  0.007826   \n",
       "192426  1.594841e+09  b8:27:eb:bf:9d:51  0.005114  50.800000  False  0.007826   \n",
       "257856  1.594952e+09  1c:bf:ce:15:ec:4d  0.003886  82.500000   True  0.006416   \n",
       "257857  1.594952e+09  1c:bf:ce:15:ec:4d  0.003886  82.500000   True  0.006416   \n",
       "297460  1.595020e+09  b8:27:eb:bf:9d:51  0.006076  50.200000  False  0.008866   \n",
       "297461  1.595020e+09  b8:27:eb:bf:9d:51  0.006076  50.200000  False  0.008866   \n",
       "305561  1.595033e+09  1c:bf:ce:15:ec:4d  0.004207  60.200001   True  0.006796   \n",
       "305562  1.595033e+09  1c:bf:ce:15:ec:4d  0.004207  60.200001   True  0.006796   \n",
       "328879  1.595073e+09  b8:27:eb:bf:9d:51  0.005688  52.600000  False  0.008453   \n",
       "328880  1.595073e+09  b8:27:eb:bf:9d:51  0.005688  52.600000  False  0.008453   \n",
       "334897  1.595084e+09  b8:27:eb:bf:9d:51  0.006120  51.900000  False  0.008912   \n",
       "334898  1.595084e+09  b8:27:eb:bf:9d:51  0.006120  51.900000  False  0.008912   \n",
       "353906  1.595117e+09  b8:27:eb:bf:9d:51  0.006034  52.100000  False  0.008822   \n",
       "353907  1.595117e+09  b8:27:eb:bf:9d:51  0.006034  52.100000  False  0.008822   \n",
       "362071  1.595131e+09  b8:27:eb:bf:9d:51  0.005892  50.800000  False  0.008671   \n",
       "362072  1.595131e+09  b8:27:eb:bf:9d:51  0.005892  50.800000  False  0.008671   \n",
       "\n",
       "        motion     smoke       temp  \n",
       "17986    False  0.017556  24.700001  \n",
       "17987    False  0.017556  24.700001  \n",
       "82094    False  0.018325  23.700001  \n",
       "82095    False  0.018325  23.700001  \n",
       "147646   False  0.021610  22.600000  \n",
       "147647   False  0.021610  22.600000  \n",
       "155596   False  0.021716  22.500000  \n",
       "155597   False  0.021716  22.500000  \n",
       "169439   False  0.017327  24.400000  \n",
       "169440   False  0.017327  24.400000  \n",
       "192425   False  0.020912  22.700000  \n",
       "192426   False  0.020912  22.700000  \n",
       "257856   False  0.016913  24.000000  \n",
       "257857   False  0.016913  24.000000  \n",
       "297460   False  0.023891  22.600000  \n",
       "297461   False  0.023891  22.600000  \n",
       "305561   False  0.017986  27.900000  \n",
       "305562   False  0.017986  27.900000  \n",
       "328879   False  0.022704  22.200000  \n",
       "328880   False  0.022704  22.200000  \n",
       "334897   False  0.024024  21.500000  \n",
       "334898   False  0.024024  21.500000  \n",
       "353906   False  0.023765  22.600000  \n",
       "353907   False  0.023765  22.600000  \n",
       "362071   False  0.023330  22.400000  \n",
       "362072   False  0.023330  22.400000  "
      ]
     },
     "execution_count": 204,
     "metadata": {},
     "output_type": "execute_result"
    }
   ],
   "source": [
    "# investigation for duplicates\n",
    "df.shape\n",
    "#(405184, 9)\n",
    "\n",
    "df.drop_duplicates().shape\n",
    "#405171 rows × 9 columns\n",
    "\n",
    "# same values were recorded twice => we will drop these 14 duplicates \n",
    "df[df.duplicated(keep=False) == True]"
   ]
  },
  {
   "cell_type": "code",
   "execution_count": 205,
   "metadata": {},
   "outputs": [
    {
     "data": {
      "text/html": [
       "<div>\n",
       "<style scoped>\n",
       "    .dataframe tbody tr th:only-of-type {\n",
       "        vertical-align: middle;\n",
       "    }\n",
       "\n",
       "    .dataframe tbody tr th {\n",
       "        vertical-align: top;\n",
       "    }\n",
       "\n",
       "    .dataframe thead th {\n",
       "        text-align: right;\n",
       "    }\n",
       "</style>\n",
       "<table border=\"1\" class=\"dataframe\">\n",
       "  <thead>\n",
       "    <tr style=\"text-align: right;\">\n",
       "      <th></th>\n",
       "      <th>ts</th>\n",
       "      <th>device</th>\n",
       "      <th>co</th>\n",
       "      <th>humidity</th>\n",
       "      <th>light</th>\n",
       "      <th>lpg</th>\n",
       "      <th>motion</th>\n",
       "      <th>smoke</th>\n",
       "      <th>temp</th>\n",
       "    </tr>\n",
       "  </thead>\n",
       "  <tbody>\n",
       "  </tbody>\n",
       "</table>\n",
       "</div>"
      ],
      "text/plain": [
       "Empty DataFrame\n",
       "Columns: [ts, device, co, humidity, light, lpg, motion, smoke, temp]\n",
       "Index: []"
      ]
     },
     "execution_count": 205,
     "metadata": {},
     "output_type": "execute_result"
    }
   ],
   "source": [
    "# drop the duplicates and keep the first occurence only, modify the dataframe\n",
    "df.drop_duplicates(inplace=True, keep=\"first\")\n",
    "# verification that there are no duplicates\n",
    "df[df.duplicated(keep=False) == True]"
   ]
  },
  {
   "cell_type": "code",
   "execution_count": 206,
   "metadata": {},
   "outputs": [
    {
     "data": {
      "text/plain": [
       "ts          0\n",
       "device      0\n",
       "co          0\n",
       "humidity    0\n",
       "light       0\n",
       "lpg         0\n",
       "motion      0\n",
       "smoke       0\n",
       "temp        0\n",
       "dtype: int64"
      ]
     },
     "execution_count": 206,
     "metadata": {},
     "output_type": "execute_result"
    }
   ],
   "source": [
    "# there are no NULL values\n",
    "df.isna().sum()"
   ]
  },
  {
   "cell_type": "code",
   "execution_count": 207,
   "metadata": {},
   "outputs": [
    {
     "data": {
      "text/plain": [
       "device\n",
       "00:0f:00:70:91:0a    111815\n",
       "1c:bf:ce:15:ec:4d    105913\n",
       "b8:27:eb:bf:9d:51    187443\n",
       "dtype: int64"
      ]
     },
     "execution_count": 207,
     "metadata": {},
     "output_type": "execute_result"
    }
   ],
   "source": [
    "# how many data points we have per device\n",
    "df.groupby(\"device\").size()"
   ]
  },
  {
   "cell_type": "code",
   "execution_count": 208,
   "metadata": {},
   "outputs": [
    {
     "data": {
      "text/html": [
       "<div>\n",
       "<style scoped>\n",
       "    .dataframe tbody tr th:only-of-type {\n",
       "        vertical-align: middle;\n",
       "    }\n",
       "\n",
       "    .dataframe tbody tr th {\n",
       "        vertical-align: top;\n",
       "    }\n",
       "\n",
       "    .dataframe thead th {\n",
       "        text-align: right;\n",
       "    }\n",
       "</style>\n",
       "<table border=\"1\" class=\"dataframe\">\n",
       "  <thead>\n",
       "    <tr style=\"text-align: right;\">\n",
       "      <th></th>\n",
       "      <th>ts</th>\n",
       "      <th>device</th>\n",
       "      <th>co</th>\n",
       "      <th>humidity</th>\n",
       "      <th>light</th>\n",
       "      <th>lpg</th>\n",
       "      <th>motion</th>\n",
       "      <th>smoke</th>\n",
       "      <th>temp</th>\n",
       "      <th>measure_time</th>\n",
       "    </tr>\n",
       "  </thead>\n",
       "  <tbody>\n",
       "    <tr>\n",
       "      <th>0</th>\n",
       "      <td>1.594512e+09</td>\n",
       "      <td>b8:27:eb:bf:9d:51</td>\n",
       "      <td>0.004956</td>\n",
       "      <td>51.000000</td>\n",
       "      <td>False</td>\n",
       "      <td>0.007651</td>\n",
       "      <td>False</td>\n",
       "      <td>0.020411</td>\n",
       "      <td>22.700000</td>\n",
       "      <td>2020-07-12 00:01:34.385974407</td>\n",
       "    </tr>\n",
       "    <tr>\n",
       "      <th>1</th>\n",
       "      <td>1.594512e+09</td>\n",
       "      <td>00:0f:00:70:91:0a</td>\n",
       "      <td>0.002840</td>\n",
       "      <td>76.000000</td>\n",
       "      <td>False</td>\n",
       "      <td>0.005114</td>\n",
       "      <td>False</td>\n",
       "      <td>0.013275</td>\n",
       "      <td>19.700001</td>\n",
       "      <td>2020-07-12 00:01:34.735567570</td>\n",
       "    </tr>\n",
       "    <tr>\n",
       "      <th>2</th>\n",
       "      <td>1.594512e+09</td>\n",
       "      <td>b8:27:eb:bf:9d:51</td>\n",
       "      <td>0.004976</td>\n",
       "      <td>50.900000</td>\n",
       "      <td>False</td>\n",
       "      <td>0.007673</td>\n",
       "      <td>False</td>\n",
       "      <td>0.020475</td>\n",
       "      <td>22.600000</td>\n",
       "      <td>2020-07-12 00:01:38.073572636</td>\n",
       "    </tr>\n",
       "    <tr>\n",
       "      <th>3</th>\n",
       "      <td>1.594512e+09</td>\n",
       "      <td>1c:bf:ce:15:ec:4d</td>\n",
       "      <td>0.004403</td>\n",
       "      <td>76.800003</td>\n",
       "      <td>True</td>\n",
       "      <td>0.007023</td>\n",
       "      <td>False</td>\n",
       "      <td>0.018628</td>\n",
       "      <td>27.000000</td>\n",
       "      <td>2020-07-12 00:01:39.589146137</td>\n",
       "    </tr>\n",
       "    <tr>\n",
       "      <th>4</th>\n",
       "      <td>1.594512e+09</td>\n",
       "      <td>b8:27:eb:bf:9d:51</td>\n",
       "      <td>0.004967</td>\n",
       "      <td>50.900000</td>\n",
       "      <td>False</td>\n",
       "      <td>0.007664</td>\n",
       "      <td>False</td>\n",
       "      <td>0.020448</td>\n",
       "      <td>22.600000</td>\n",
       "      <td>2020-07-12 00:01:41.761234999</td>\n",
       "    </tr>\n",
       "    <tr>\n",
       "      <th>5</th>\n",
       "      <td>1.594512e+09</td>\n",
       "      <td>1c:bf:ce:15:ec:4d</td>\n",
       "      <td>0.004391</td>\n",
       "      <td>77.900002</td>\n",
       "      <td>True</td>\n",
       "      <td>0.007009</td>\n",
       "      <td>False</td>\n",
       "      <td>0.018589</td>\n",
       "      <td>27.000000</td>\n",
       "      <td>2020-07-12 00:01:44.468410730</td>\n",
       "    </tr>\n",
       "    <tr>\n",
       "      <th>6</th>\n",
       "      <td>1.594512e+09</td>\n",
       "      <td>b8:27:eb:bf:9d:51</td>\n",
       "      <td>0.004976</td>\n",
       "      <td>50.900000</td>\n",
       "      <td>False</td>\n",
       "      <td>0.007673</td>\n",
       "      <td>False</td>\n",
       "      <td>0.020475</td>\n",
       "      <td>22.600000</td>\n",
       "      <td>2020-07-12 00:01:45.448863506</td>\n",
       "    </tr>\n",
       "    <tr>\n",
       "      <th>7</th>\n",
       "      <td>1.594512e+09</td>\n",
       "      <td>00:0f:00:70:91:0a</td>\n",
       "      <td>0.002938</td>\n",
       "      <td>76.000000</td>\n",
       "      <td>False</td>\n",
       "      <td>0.005241</td>\n",
       "      <td>False</td>\n",
       "      <td>0.013628</td>\n",
       "      <td>19.700001</td>\n",
       "      <td>2020-07-12 00:01:46.869076014</td>\n",
       "    </tr>\n",
       "    <tr>\n",
       "      <th>8</th>\n",
       "      <td>1.594512e+09</td>\n",
       "      <td>1c:bf:ce:15:ec:4d</td>\n",
       "      <td>0.004345</td>\n",
       "      <td>77.900002</td>\n",
       "      <td>True</td>\n",
       "      <td>0.006957</td>\n",
       "      <td>False</td>\n",
       "      <td>0.018440</td>\n",
       "      <td>27.000000</td>\n",
       "      <td>2020-07-12 00:01:48.275381327</td>\n",
       "    </tr>\n",
       "    <tr>\n",
       "      <th>9</th>\n",
       "      <td>1.594512e+09</td>\n",
       "      <td>b8:27:eb:bf:9d:51</td>\n",
       "      <td>0.004970</td>\n",
       "      <td>50.900000</td>\n",
       "      <td>False</td>\n",
       "      <td>0.007667</td>\n",
       "      <td>False</td>\n",
       "      <td>0.020457</td>\n",
       "      <td>22.600000</td>\n",
       "      <td>2020-07-12 00:01:49.136686802</td>\n",
       "    </tr>\n",
       "  </tbody>\n",
       "</table>\n",
       "</div>"
      ],
      "text/plain": [
       "             ts             device        co   humidity  light       lpg  \\\n",
       "0  1.594512e+09  b8:27:eb:bf:9d:51  0.004956  51.000000  False  0.007651   \n",
       "1  1.594512e+09  00:0f:00:70:91:0a  0.002840  76.000000  False  0.005114   \n",
       "2  1.594512e+09  b8:27:eb:bf:9d:51  0.004976  50.900000  False  0.007673   \n",
       "3  1.594512e+09  1c:bf:ce:15:ec:4d  0.004403  76.800003   True  0.007023   \n",
       "4  1.594512e+09  b8:27:eb:bf:9d:51  0.004967  50.900000  False  0.007664   \n",
       "5  1.594512e+09  1c:bf:ce:15:ec:4d  0.004391  77.900002   True  0.007009   \n",
       "6  1.594512e+09  b8:27:eb:bf:9d:51  0.004976  50.900000  False  0.007673   \n",
       "7  1.594512e+09  00:0f:00:70:91:0a  0.002938  76.000000  False  0.005241   \n",
       "8  1.594512e+09  1c:bf:ce:15:ec:4d  0.004345  77.900002   True  0.006957   \n",
       "9  1.594512e+09  b8:27:eb:bf:9d:51  0.004970  50.900000  False  0.007667   \n",
       "\n",
       "   motion     smoke       temp                  measure_time  \n",
       "0   False  0.020411  22.700000 2020-07-12 00:01:34.385974407  \n",
       "1   False  0.013275  19.700001 2020-07-12 00:01:34.735567570  \n",
       "2   False  0.020475  22.600000 2020-07-12 00:01:38.073572636  \n",
       "3   False  0.018628  27.000000 2020-07-12 00:01:39.589146137  \n",
       "4   False  0.020448  22.600000 2020-07-12 00:01:41.761234999  \n",
       "5   False  0.018589  27.000000 2020-07-12 00:01:44.468410730  \n",
       "6   False  0.020475  22.600000 2020-07-12 00:01:45.448863506  \n",
       "7   False  0.013628  19.700001 2020-07-12 00:01:46.869076014  \n",
       "8   False  0.018440  27.000000 2020-07-12 00:01:48.275381327  \n",
       "9   False  0.020457  22.600000 2020-07-12 00:01:49.136686802  "
      ]
     },
     "execution_count": 208,
     "metadata": {},
     "output_type": "execute_result"
    }
   ],
   "source": [
    "# convert unix epochs to datetime\n",
    "df[\"measure_time\"]=pd.to_datetime(df[\"ts\"], unit = 's')\n",
    "df.head(10)"
   ]
  },
  {
   "cell_type": "code",
   "execution_count": 209,
   "metadata": {},
   "outputs": [
    {
     "data": {
      "text/plain": [
       "3"
      ]
     },
     "execution_count": 209,
     "metadata": {},
     "output_type": "execute_result"
    }
   ],
   "source": [
    "#df[\"ts\"].iloc[0]\n",
    "#1594512094.3859746\n",
    "#take the time up to seconds precision\n",
    "# convert unix epochs to datetime\n",
    "df[\"measure_seconds\"]=pd.to_datetime(df[\"ts\"].astype(int), unit = 's')\n",
    "\n",
    "#how many data points we have per sencond\n",
    "df_entries_sec=df.groupby(\"measure_seconds\").size().reset_index(name=\"count\")\n",
    "\n",
    "# For an interval of second we can have up to 3 entries\n",
    "df_entries_sec[\"count\"].max()"
   ]
  },
  {
   "cell_type": "code",
   "execution_count": 210,
   "metadata": {},
   "outputs": [
    {
     "data": {
      "text/plain": [
       "measure_seconds    266726\n",
       "count              266726\n",
       "dtype: int64"
      ]
     },
     "execution_count": 210,
     "metadata": {},
     "output_type": "execute_result"
    }
   ],
   "source": [
    "# what is the proportion of the frequency per second\n",
    "df_entries_sec.loc[(df_entries_sec['count'] == 3)].count()\n",
    "#4651 times we receive 3 data entries per second\n",
    "\n",
    "df_entries_sec.loc[(df_entries_sec['count'] == 2)].count()\n",
    "#62246 times we received 2 data entries per second\n",
    "\n",
    "df_entries_sec.loc[(df_entries_sec['count'] == 1)].count()\n",
    "#266726 -> Most of the data entries are sent at frequency 1 per second"
   ]
  },
  {
   "cell_type": "code",
   "execution_count": 211,
   "metadata": {},
   "outputs": [
    {
     "name": "stdout",
     "output_type": "stream",
     "text": [
      "2020-07-12 00:00:00\n",
      "2020-07-20 00:03:27\n",
      "691408\n"
     ]
    },
    {
     "data": {
      "text/plain": [
       "{False: 333618, True: 357790}"
      ]
     },
     "execution_count": 211,
     "metadata": {},
     "output_type": "execute_result"
    }
   ],
   "source": [
    "# do we have long periods without any entries?\n",
    "import datetime\n",
    "start_dte = datetime.datetime(2020, 7, 12)\n",
    "print(start_dte)\n",
    "\n",
    "#find out the last date\n",
    "df.loc[(df['measure_time'] >= \"2020-07-20\")]\n",
    "\n",
    "end_dte = datetime.datetime(2020, 7, 20, 0, 3, 27)\n",
    "print(end_dte)\n",
    "\n",
    "# create date range per second inclusive of the end date\n",
    "ref_date_range = pd.date_range(start=start_dte, end=end_dte, freq='S')\n",
    "print(len(ref_date_range))\n",
    "#691408 seconds in total\n",
    "\n",
    "missing_seconds =~ref_date_range.isin(df.measure_seconds)\n",
    "#numpy.ndarray\n",
    "\n",
    "# approximately half of the times there is no entry\n",
    "unique, counts = np.unique(missing_seconds, return_counts=True)\n",
    "dict(zip(unique, counts))\n",
    "#{False: 333618, True: 357790}"
   ]
  },
  {
   "cell_type": "code",
   "execution_count": 212,
   "metadata": {},
   "outputs": [
    {
     "name": "stdout",
     "output_type": "stream",
     "text": [
      "94\n",
      "76965\n"
     ]
    }
   ],
   "source": [
    "# what is the longest sequence of False\n",
    "max_period=0\n",
    "max_period_frequency=0\n",
    "current_count=0\n",
    "for elem in missing_seconds:\n",
    "    if elem:\n",
    "        current_count +=1\n",
    "    else:\n",
    "        if (max_period < current_count):\n",
    "            max_period = current_count\n",
    "        if current_count == 2:\n",
    "            max_period_frequency+=1\n",
    "        current_count=0\n",
    "print(max_period)\n",
    "print(max_period_frequency)\n",
    "#The longuest period where we dont have entries is 6 seconds \n",
    "#and this happened 4 times\n",
    "\n",
    "# 4 times we had to wait 6 seconds for an entry to come in\n",
    "# 142 times we had to wait 5 seconds for an entry to come in\n",
    "# 2974 times we had to wait 4 seconds for an entry to come in\n",
    "# 18096 times we had to wait 3 seconds for an entry to come in\n",
    "# 54339 times we had to wait 2 seconds for an entry to come in\n",
    "# 57981 times we had to wait 1 second for an entry to come in\n",
    "\n",
    "# the longest period when we received consecutively entries is 94 seconds\n",
    "# 41150 times we received data without interruption for 2 seconds\n",
    "# 35815 times we received data consecutively for 3 seconds\n",
    "# 2 times we received data consecutively for 4 seconds\n",
    "\n"
   ]
  },
  {
   "cell_type": "code",
   "execution_count": 213,
   "metadata": {},
   "outputs": [
    {
     "data": {
      "text/html": [
       "<div>\n",
       "<style scoped>\n",
       "    .dataframe tbody tr th:only-of-type {\n",
       "        vertical-align: middle;\n",
       "    }\n",
       "\n",
       "    .dataframe tbody tr th {\n",
       "        vertical-align: top;\n",
       "    }\n",
       "\n",
       "    .dataframe thead th {\n",
       "        text-align: right;\n",
       "    }\n",
       "</style>\n",
       "<table border=\"1\" class=\"dataframe\">\n",
       "  <thead>\n",
       "    <tr style=\"text-align: right;\">\n",
       "      <th></th>\n",
       "      <th>ts</th>\n",
       "      <th>co</th>\n",
       "      <th>humidity</th>\n",
       "      <th>lpg</th>\n",
       "      <th>smoke</th>\n",
       "      <th>temp</th>\n",
       "    </tr>\n",
       "  </thead>\n",
       "  <tbody>\n",
       "    <tr>\n",
       "      <th>count</th>\n",
       "      <td>4.051710e+05</td>\n",
       "      <td>405171.000000</td>\n",
       "      <td>405171.000000</td>\n",
       "      <td>405171.000000</td>\n",
       "      <td>405171.000000</td>\n",
       "      <td>405171.000000</td>\n",
       "    </tr>\n",
       "    <tr>\n",
       "      <th>mean</th>\n",
       "      <td>1.594858e+09</td>\n",
       "      <td>0.004639</td>\n",
       "      <td>60.511817</td>\n",
       "      <td>0.007237</td>\n",
       "      <td>0.019264</td>\n",
       "      <td>22.453958</td>\n",
       "    </tr>\n",
       "    <tr>\n",
       "      <th>std</th>\n",
       "      <td>1.994987e+05</td>\n",
       "      <td>0.001250</td>\n",
       "      <td>11.366504</td>\n",
       "      <td>0.001444</td>\n",
       "      <td>0.004086</td>\n",
       "      <td>2.698370</td>\n",
       "    </tr>\n",
       "    <tr>\n",
       "      <th>min</th>\n",
       "      <td>1.594512e+09</td>\n",
       "      <td>0.001171</td>\n",
       "      <td>1.100000</td>\n",
       "      <td>0.002693</td>\n",
       "      <td>0.006692</td>\n",
       "      <td>0.000000</td>\n",
       "    </tr>\n",
       "    <tr>\n",
       "      <th>25%</th>\n",
       "      <td>1.594686e+09</td>\n",
       "      <td>0.003919</td>\n",
       "      <td>51.000000</td>\n",
       "      <td>0.006456</td>\n",
       "      <td>0.017024</td>\n",
       "      <td>19.900000</td>\n",
       "    </tr>\n",
       "    <tr>\n",
       "      <th>50%</th>\n",
       "      <td>1.594858e+09</td>\n",
       "      <td>0.004812</td>\n",
       "      <td>54.900000</td>\n",
       "      <td>0.007489</td>\n",
       "      <td>0.019950</td>\n",
       "      <td>22.200000</td>\n",
       "    </tr>\n",
       "    <tr>\n",
       "      <th>75%</th>\n",
       "      <td>1.595031e+09</td>\n",
       "      <td>0.005409</td>\n",
       "      <td>74.300003</td>\n",
       "      <td>0.008150</td>\n",
       "      <td>0.021838</td>\n",
       "      <td>23.600000</td>\n",
       "    </tr>\n",
       "    <tr>\n",
       "      <th>max</th>\n",
       "      <td>1.595203e+09</td>\n",
       "      <td>0.014420</td>\n",
       "      <td>99.900002</td>\n",
       "      <td>0.016567</td>\n",
       "      <td>0.046590</td>\n",
       "      <td>30.600000</td>\n",
       "    </tr>\n",
       "  </tbody>\n",
       "</table>\n",
       "</div>"
      ],
      "text/plain": [
       "                 ts             co       humidity            lpg  \\\n",
       "count  4.051710e+05  405171.000000  405171.000000  405171.000000   \n",
       "mean   1.594858e+09       0.004639      60.511817       0.007237   \n",
       "std    1.994987e+05       0.001250      11.366504       0.001444   \n",
       "min    1.594512e+09       0.001171       1.100000       0.002693   \n",
       "25%    1.594686e+09       0.003919      51.000000       0.006456   \n",
       "50%    1.594858e+09       0.004812      54.900000       0.007489   \n",
       "75%    1.595031e+09       0.005409      74.300003       0.008150   \n",
       "max    1.595203e+09       0.014420      99.900002       0.016567   \n",
       "\n",
       "               smoke           temp  \n",
       "count  405171.000000  405171.000000  \n",
       "mean        0.019264      22.453958  \n",
       "std         0.004086       2.698370  \n",
       "min         0.006692       0.000000  \n",
       "25%         0.017024      19.900000  \n",
       "50%         0.019950      22.200000  \n",
       "75%         0.021838      23.600000  \n",
       "max         0.046590      30.600000  "
      ]
     },
     "execution_count": 213,
     "metadata": {},
     "output_type": "execute_result"
    }
   ],
   "source": [
    "#summary of the distribution of continuous variables:\n",
    "df.describe()"
   ]
  },
  {
   "cell_type": "code",
   "execution_count": 214,
   "metadata": {},
   "outputs": [
    {
     "data": {
      "text/html": [
       "<div>\n",
       "<style scoped>\n",
       "    .dataframe tbody tr th:only-of-type {\n",
       "        vertical-align: middle;\n",
       "    }\n",
       "\n",
       "    .dataframe tbody tr th {\n",
       "        vertical-align: top;\n",
       "    }\n",
       "\n",
       "    .dataframe thead th {\n",
       "        text-align: right;\n",
       "    }\n",
       "</style>\n",
       "<table border=\"1\" class=\"dataframe\">\n",
       "  <thead>\n",
       "    <tr style=\"text-align: right;\">\n",
       "      <th></th>\n",
       "      <th>ts</th>\n",
       "      <th>co</th>\n",
       "      <th>humidity</th>\n",
       "      <th>light</th>\n",
       "      <th>lpg</th>\n",
       "      <th>motion</th>\n",
       "      <th>smoke</th>\n",
       "      <th>temp</th>\n",
       "    </tr>\n",
       "  </thead>\n",
       "  <tbody>\n",
       "    <tr>\n",
       "      <th>count</th>\n",
       "      <td>4.051710e+05</td>\n",
       "      <td>405171.000000</td>\n",
       "      <td>405171.000000</td>\n",
       "      <td>405171.000000</td>\n",
       "      <td>405171.000000</td>\n",
       "      <td>405171.00000</td>\n",
       "      <td>405171.000000</td>\n",
       "      <td>405171.000000</td>\n",
       "    </tr>\n",
       "    <tr>\n",
       "      <th>mean</th>\n",
       "      <td>1.594858e+09</td>\n",
       "      <td>0.004639</td>\n",
       "      <td>60.511817</td>\n",
       "      <td>0.277715</td>\n",
       "      <td>0.007237</td>\n",
       "      <td>0.00119</td>\n",
       "      <td>0.019264</td>\n",
       "      <td>22.453958</td>\n",
       "    </tr>\n",
       "    <tr>\n",
       "      <th>std</th>\n",
       "      <td>1.994987e+05</td>\n",
       "      <td>0.001250</td>\n",
       "      <td>11.366504</td>\n",
       "      <td>0.447873</td>\n",
       "      <td>0.001444</td>\n",
       "      <td>0.03447</td>\n",
       "      <td>0.004086</td>\n",
       "      <td>2.698370</td>\n",
       "    </tr>\n",
       "    <tr>\n",
       "      <th>min</th>\n",
       "      <td>1.594512e+09</td>\n",
       "      <td>0.001171</td>\n",
       "      <td>1.100000</td>\n",
       "      <td>0.000000</td>\n",
       "      <td>0.002693</td>\n",
       "      <td>0.00000</td>\n",
       "      <td>0.006692</td>\n",
       "      <td>0.000000</td>\n",
       "    </tr>\n",
       "    <tr>\n",
       "      <th>25%</th>\n",
       "      <td>1.594686e+09</td>\n",
       "      <td>0.003919</td>\n",
       "      <td>51.000000</td>\n",
       "      <td>0.000000</td>\n",
       "      <td>0.006456</td>\n",
       "      <td>0.00000</td>\n",
       "      <td>0.017024</td>\n",
       "      <td>19.900000</td>\n",
       "    </tr>\n",
       "    <tr>\n",
       "      <th>50%</th>\n",
       "      <td>1.594858e+09</td>\n",
       "      <td>0.004812</td>\n",
       "      <td>54.900000</td>\n",
       "      <td>0.000000</td>\n",
       "      <td>0.007489</td>\n",
       "      <td>0.00000</td>\n",
       "      <td>0.019950</td>\n",
       "      <td>22.200000</td>\n",
       "    </tr>\n",
       "    <tr>\n",
       "      <th>75%</th>\n",
       "      <td>1.595031e+09</td>\n",
       "      <td>0.005409</td>\n",
       "      <td>74.300003</td>\n",
       "      <td>1.000000</td>\n",
       "      <td>0.008150</td>\n",
       "      <td>0.00000</td>\n",
       "      <td>0.021838</td>\n",
       "      <td>23.600000</td>\n",
       "    </tr>\n",
       "    <tr>\n",
       "      <th>max</th>\n",
       "      <td>1.595203e+09</td>\n",
       "      <td>0.014420</td>\n",
       "      <td>99.900002</td>\n",
       "      <td>1.000000</td>\n",
       "      <td>0.016567</td>\n",
       "      <td>1.00000</td>\n",
       "      <td>0.046590</td>\n",
       "      <td>30.600000</td>\n",
       "    </tr>\n",
       "  </tbody>\n",
       "</table>\n",
       "</div>"
      ],
      "text/plain": [
       "                 ts             co       humidity          light  \\\n",
       "count  4.051710e+05  405171.000000  405171.000000  405171.000000   \n",
       "mean   1.594858e+09       0.004639      60.511817       0.277715   \n",
       "std    1.994987e+05       0.001250      11.366504       0.447873   \n",
       "min    1.594512e+09       0.001171       1.100000       0.000000   \n",
       "25%    1.594686e+09       0.003919      51.000000       0.000000   \n",
       "50%    1.594858e+09       0.004812      54.900000       0.000000   \n",
       "75%    1.595031e+09       0.005409      74.300003       1.000000   \n",
       "max    1.595203e+09       0.014420      99.900002       1.000000   \n",
       "\n",
       "                 lpg        motion          smoke           temp  \n",
       "count  405171.000000  405171.00000  405171.000000  405171.000000  \n",
       "mean        0.007237       0.00119       0.019264      22.453958  \n",
       "std         0.001444       0.03447       0.004086       2.698370  \n",
       "min         0.002693       0.00000       0.006692       0.000000  \n",
       "25%         0.006456       0.00000       0.017024      19.900000  \n",
       "50%         0.007489       0.00000       0.019950      22.200000  \n",
       "75%         0.008150       0.00000       0.021838      23.600000  \n",
       "max         0.016567       1.00000       0.046590      30.600000  "
      ]
     },
     "execution_count": 214,
     "metadata": {},
     "output_type": "execute_result"
    }
   ],
   "source": [
    "#??? Why ligth and movement do not appear in describe?\n",
    "#Should I convert their values to 1 and 0\n",
    "df[\"light\"] = df[\"light\"].astype(int)\n",
    "df[\"motion\"] = df[\"motion\"].astype(int)\n",
    "df.describe()"
   ]
  },
  {
   "cell_type": "code",
   "execution_count": 215,
   "metadata": {},
   "outputs": [
    {
     "data": {
      "text/plain": [
       "0    292649\n",
       "1    112522\n",
       "Name: light, dtype: int64"
      ]
     },
     "execution_count": 215,
     "metadata": {},
     "output_type": "execute_result"
    }
   ],
   "source": [
    "#??? Is the data set balanced? we have to count how many instances we have for each class\n",
    "df['light'].value_counts()\n",
    "\n",
    "#0    292649\n",
    "#1    112522\n",
    "# => the data set is not balanced"
   ]
  },
  {
   "cell_type": "markdown",
   "metadata": {},
   "source": [
    "# Train & Test Split() : train=80% & test=20%"
   ]
  },
  {
   "cell_type": "code",
   "execution_count": 216,
   "metadata": {},
   "outputs": [],
   "source": [
    "#select the features and the target variable\n",
    "#we exclude the timestamp\n",
    "#?Question? Do we need to add the device?\n",
    "feature_cols = ['co', 'humidity', 'lpg', 'motion','smoke','temp']\n",
    "X = df[feature_cols] # Features\n",
    "y = df['light'] # Target variable"
   ]
  },
  {
   "cell_type": "code",
   "execution_count": 217,
   "metadata": {},
   "outputs": [],
   "source": [
    "X_train, X_test, y_train, y_test = train_test_split(X, y, test_size = 0.2, random_state = 0)"
   ]
  },
  {
   "cell_type": "markdown",
   "metadata": {},
   "source": [
    "# GaussianNB()"
   ]
  },
  {
   "cell_type": "code",
   "execution_count": 240,
   "metadata": {},
   "outputs": [
    {
     "name": "stdout",
     "output_type": "stream",
     "text": [
      "              precision    recall  f1-score   support\n",
      "\n",
      "           0       0.97      1.00      0.99     58563\n",
      "           1       1.00      0.93      0.96     22472\n",
      "\n",
      "    accuracy                           0.98     81035\n",
      "   macro avg       0.99      0.97      0.98     81035\n",
      "weighted avg       0.98      0.98      0.98     81035\n",
      "\n",
      "[[58510    53]\n",
      " [ 1518 20954]]\n",
      "accuracy is 0.9806133152341581\n"
     ]
    }
   ],
   "source": [
    "classifierGNB = GaussianNB()\n",
    "classifierGNB.fit(X_train, y_train)\n",
    "y_pred = classifierGNB.predict(X_test)\n",
    " \n",
    "# Summary of the predictions made by the classifier\n",
    "print(classification_report(y_test, y_pred))\n",
    "print(confusion_matrix(y_test, y_pred))\n",
    "# Accuracy score\n",
    "from sklearn.metrics import accuracy_score\n",
    "print('accuracy is',accuracy_score(y_pred,y_test))"
   ]
  },
  {
   "cell_type": "code",
   "execution_count": 247,
   "metadata": {},
   "outputs": [
    {
     "name": "stdout",
     "output_type": "stream",
     "text": [
      " Normalized Confusion Matrix: Gaussian Naive Bayes   \n"
     ]
    },
    {
     "data": {
      "image/png": "[encoded data removed]",
      "text/plain": [
       "<Figure size 432x288 with 2 Axes>"
      ]
     },
     "metadata": {
      "needs_background": "light"
     },
     "output_type": "display_data"
    }
   ],
   "source": [
    "print(' Normalized Confusion Matrix: Gaussian Naive Bayes   ')\n",
    "confusion_matrixGNB = pd.crosstab(y_test, y_pred, rownames=['Actual'], colnames=['Predicted'], normalize=True)\n",
    "sns.heatmap(confusion_matrixGNB, annot=True, )\n",
    "plt.show()"
   ]
  },
  {
   "cell_type": "markdown",
   "metadata": {},
   "source": [
    "# MultinomialNB()"
   ]
  },
  {
   "cell_type": "code",
   "execution_count": 220,
   "metadata": {},
   "outputs": [
    {
     "name": "stdout",
     "output_type": "stream",
     "text": [
      "              precision    recall  f1-score   support\n",
      "\n",
      "           0       0.74      1.00      0.85     58563\n",
      "           1       0.98      0.08      0.15     22472\n",
      "\n",
      "    accuracy                           0.74     81035\n",
      "   macro avg       0.86      0.54      0.50     81035\n",
      "weighted avg       0.81      0.74      0.65     81035\n",
      "\n",
      "[[58522    41]\n",
      " [20686  1786]]\n",
      "accuracy is 0.7442216326278769\n"
     ]
    }
   ],
   "source": [
    "from sklearn.naive_bayes import MultinomialNB\n",
    "\n",
    "classifier = MultinomialNB()\n",
    "classifier.fit(X_train, y_train)\n",
    "y_pred = classifier.predict(X_test)\n",
    "\n",
    "# Summary of the predictions made by the classifier\n",
    "print(classification_report(y_test, y_pred))\n",
    "print(confusion_matrix(y_test, y_pred))\n",
    "# Accuracy score\n",
    "from sklearn.metrics import accuracy_score\n",
    "print('accuracy is',accuracy_score(y_pred,y_test))"
   ]
  },
  {
   "cell_type": "code",
   "execution_count": 222,
   "metadata": {},
   "outputs": [
    {
     "data": {
      "image/png": "[encoded data removed]",
      "text/plain": [
       "<Figure size 432x288 with 2 Axes>"
      ]
     },
     "metadata": {
      "needs_background": "light"
     },
     "output_type": "display_data"
    }
   ],
   "source": [
    "confusion_matrixMNB = pd.crosstab(y_test, y_pred, rownames=['Actual'], colnames=['Predicted'], normalize=True)\n",
    "sns.heatmap(confusion_matrixMNB, annot=True, )\n",
    "plt.show()"
   ]
  },
  {
   "cell_type": "markdown",
   "metadata": {},
   "source": [
    "# BernoulliNB()"
   ]
  },
  {
   "cell_type": "code",
   "execution_count": 223,
   "metadata": {},
   "outputs": [
    {
     "name": "stdout",
     "output_type": "stream",
     "text": [
      "              precision    recall  f1-score   support\n",
      "\n",
      "           0       0.72      1.00      0.84     58563\n",
      "           1       0.73      0.00      0.01     22472\n",
      "\n",
      "    accuracy                           0.72     81035\n",
      "   macro avg       0.72      0.50      0.42     81035\n",
      "weighted avg       0.72      0.72      0.61     81035\n",
      "\n",
      "[[58537    26]\n",
      " [22403    69]]\n",
      "accuracy is 0.7232183624359845\n"
     ]
    }
   ],
   "source": [
    "# Bernoulli Naive Bayes\n",
    "from sklearn.naive_bayes import BernoulliNB\n",
    "classifier = BernoulliNB()\n",
    "classifier.fit(X_train, y_train)\n",
    "y_pred = classifier.predict(X_test)\n",
    " \n",
    "# Summary of the predictions made by the classifier\n",
    "print(classification_report(y_test, y_pred))\n",
    "print(confusion_matrix(y_test, y_pred))\n",
    "# Accuracy score\n",
    "from sklearn.metrics import accuracy_score\n",
    "print('accuracy is',accuracy_score(y_pred,y_test))"
   ]
  },
  {
   "cell_type": "code",
   "execution_count": 224,
   "metadata": {},
   "outputs": [
    {
     "data": {
      "image/png": "[encoded data removed]",
      "text/plain": [
       "<Figure size 432x288 with 2 Axes>"
      ]
     },
     "metadata": {
      "needs_background": "light"
     },
     "output_type": "display_data"
    }
   ],
   "source": [
    "confusion_matrixBNB = pd.crosstab(y_test, y_pred, rownames=['Actual'], colnames=['Predicted'], normalize=True)\n",
    "sns.heatmap(confusion_matrixBNB, annot=True, )\n",
    "plt.show()"
   ]
  },
  {
   "cell_type": "markdown",
   "metadata": {},
   "source": [
    "# ComplementNB()"
   ]
  },
  {
   "cell_type": "code",
   "execution_count": 225,
   "metadata": {},
   "outputs": [
    {
     "name": "stdout",
     "output_type": "stream",
     "text": [
      "              precision    recall  f1-score   support\n",
      "\n",
      "           0       0.80      0.37      0.51     58563\n",
      "           1       0.32      0.76      0.45     22472\n",
      "\n",
      "    accuracy                           0.48     81035\n",
      "   macro avg       0.56      0.56      0.48     81035\n",
      "weighted avg       0.67      0.48      0.49     81035\n",
      "\n",
      "[[21782 36781]\n",
      " [ 5462 17010]]\n",
      "accuracy is 0.4787067316591596\n"
     ]
    }
   ],
   "source": [
    "# Complement Naive Bayes\n",
    "from sklearn.naive_bayes import ComplementNB\n",
    "classifier = ComplementNB()\n",
    "classifier.fit(X_train, y_train)\n",
    " \n",
    "y_pred = classifier.predict(X_test)\n",
    " \n",
    "# Summary of the predictions made by the classifier\n",
    "print(classification_report(y_test, y_pred))\n",
    "print(confusion_matrix(y_test, y_pred))\n",
    "# Accuracy score\n",
    "from sklearn.metrics import accuracy_score\n",
    "print('accuracy is',accuracy_score(y_pred,y_test))"
   ]
  },
  {
   "cell_type": "code",
   "execution_count": 235,
   "metadata": {},
   "outputs": [
    {
     "data": {
      "image/png": "[encoded data removed]",
      "text/plain": [
       "<Figure size 432x288 with 2 Axes>"
      ]
     },
     "metadata": {
      "needs_background": "light"
     },
     "output_type": "display_data"
    }
   ],
   "source": [
    "confusion_matrixCNB = pd.crosstab(y_test, y_pred, rownames=['Actual'], colnames=['Predicted'], normalize=True)\n",
    "sns.heatmap(confusion_matrixCNB, annot=True)\n",
    "plt.show()"
   ]
  },
  {
   "cell_type": "code",
   "execution_count": 239,
   "metadata": {},
   "outputs": [
    {
     "name": "stdout",
     "output_type": "stream",
     "text": [
      "==============================\n",
      "GaussianNB\n",
      "****Results****\n",
      "Accuracy: 98.0613%\n",
      "Confusion Matrix:\n",
      "[[58510    53]\n",
      " [ 1518 20954]]\n",
      "==============================\n",
      "==============================\n",
      "MultinomialNB\n",
      "****Results****\n",
      "Accuracy: 74.4222%\n",
      "Confusion Matrix:\n",
      "[[58522    41]\n",
      " [20686  1786]]\n",
      "==============================\n",
      "==============================\n",
      "BernoulliNB\n",
      "****Results****\n",
      "Accuracy: 72.3218%\n",
      "Confusion Matrix:\n",
      "[[58537    26]\n",
      " [22403    69]]\n",
      "==============================\n",
      "==============================\n",
      "ComplementNB\n",
      "****Results****\n",
      "Accuracy: 47.8707%\n",
      "Confusion Matrix:\n",
      "[[21782 36781]\n",
      " [ 5462 17010]]\n",
      "==============================\n"
     ]
    },
    {
     "data": {
      "image/png": "[encoded data removed]",
      "text/plain": [
       "<Figure size 432x288 with 1 Axes>"
      ]
     },
     "metadata": {
      "needs_background": "light"
     },
     "output_type": "display_data"
    }
   ],
   "source": [
    "from sklearn.metrics import accuracy_score, log_loss, roc_curve\n",
    "import matplotlib.pyplot as plt\n",
    "%matplotlib inline\n",
    "\n",
    "import seaborn as sns\n",
    "\n",
    "\n",
    "classifiers = [\n",
    "    GaussianNB(),\n",
    "    MultinomialNB(),\n",
    "    BernoulliNB(),\n",
    "    ComplementNB(),]\n",
    " \n",
    "# Logging for Visual Comparison\n",
    "log_cols=[\"Naive Bayes Classifier\", \"Accuracy\", \"Log Loss\"]\n",
    "log = pd.DataFrame(columns=log_cols)\n",
    " \n",
    "for clf in classifiers:\n",
    "    clf.fit(X_train, y_train)\n",
    "    name = clf.__class__.__name__\n",
    "    \n",
    "    print(\"=\"*30)\n",
    "    print(name)\n",
    "    \n",
    "    print('****Results****')\n",
    "    train_predictions = clf.predict(X_test)\n",
    "    acc = accuracy_score(y_test, train_predictions)\n",
    "    print(\"Accuracy: {:.4%}\".format(acc))\n",
    "    print(\"Confusion Matrix:\")\n",
    "    print(confusion_matrix(y_test, train_predictions))\n",
    "    log_entry = pd.DataFrame([[name, acc*100, 11]], columns=log_cols)\n",
    "    log = log.append(log_entry)\n",
    "    \n",
    "    print(\"=\"*30)\n",
    "\n",
    "sns.set_color_codes(\"muted\")\n",
    "sns.barplot(x='Accuracy', y='Naive Bayes Classifier', data=log, color=\"b\")\n",
    " \n",
    "plt.xlabel('Accuracy %')\n",
    "plt.title('Classifier Accuracy')\n",
    "plt.show()"
   ]
  },
  {
   "cell_type": "code",
   "execution_count": null,
   "metadata": {},
   "outputs": [],
   "source": []
  }
 ],
 "metadata": {
  "kernelspec": {
   "display_name": "Python 3",
   "language": "python",
   "name": "python3"
  },
  "language_info": {
   "codemirror_mode": {
    "name": "ipython",
    "version": 3
   },
   "file_extension": ".py",
   "mimetype": "text/x-python",
   "name": "python",
   "nbconvert_exporter": "python",
   "pygments_lexer": "ipython3",
   "version": "3.7.6"
  }
 },
 "nbformat": 4,
 "nbformat_minor": 4
}
